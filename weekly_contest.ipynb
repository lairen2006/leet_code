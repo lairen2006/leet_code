{
 "cells": [
  {
   "cell_type": "markdown",
   "metadata": {},
   "source": [
    "# Weekly Contest 91\n",
    "## 863. 二叉树中所有距离为 K 的结点\n",
    "\n",
    "这里没有阅读全题目，将root参数理解为按层遍历的数结构数组。按题目，传入root为根节点。个人理解可以遍历一下整棵树，记录下来按层遍历的树结构，然后调用以下代码即可。"
   ]
  },
  {
   "cell_type": "code",
   "execution_count": 6,
   "metadata": {
    "collapsed": false
   },
   "outputs": [
    {
     "data": {
      "text/plain": [
       "[3, 0, 8]"
      ]
     },
     "execution_count": 6,
     "metadata": {},
     "output_type": "execute_result"
    }
   ],
   "source": [
    "def distanceK(root, target, K):\n",
    "    \"\"\"\n",
    "    :type root: TreeNode\n",
    "    :type target: TreeNode\n",
    "    :type K: int\n",
    "    :rtype: List[int]\n",
    "    \"\"\"\n",
    "\n",
    "    n = len(root)\n",
    "    target_index = -1\n",
    "    distance_matrix = [[0 for i in range(n)] for j in range(n)]  # 定义n*n矩阵记录每个节点间的距离\n",
    "    for i in range(len(root)):\n",
    "        if root[i] == target:\n",
    "            target_index = i\n",
    "        for j in range(i):\n",
    "            distance_matrix[i][j] = distance_matrix[j][i] = 1 + distance_matrix[(i-1)//2][j]\n",
    "        distance_matrix[i][i] = 0\n",
    "    ret_list = []\n",
    "    for i,distance in enumerate(distance_matrix[target_index]):\n",
    "        if distance == K and root[i] != None:\n",
    "            ret_list.append(root[i])\n",
    "    return ret_list \n",
    "distanceK([3,5,1,6,2,0,8,4,2,7,4],1,1)"
   ]
  },
  {
   "cell_type": "markdown",
   "metadata": {
    "collapsed": true
   },
   "source": [
    "# Weekly Contest 94\n",
    "## 874. 行走机器人模拟"
   ]
  },
  {
   "cell_type": "code",
   "execution_count": null,
   "metadata": {
    "collapsed": true
   },
   "outputs": [],
   "source": [
    "def robotSim(commands, obstacles):\n",
    "    \"\"\"\n",
    "    :type commands: List[int]\n",
    "    :type obstacles: List[List[int]]\n",
    "    :rtype: int\n",
    "    \"\"\"\n",
    "\n",
    "    obstacles_x = {}\n",
    "    obstacles_y = {}\n",
    "\n",
    "    for ele in obstacles:\n",
    "        if ele[0] in obstacles_x:\n",
    "            obstacles_x[ele[0]].append(ele[1])\n",
    "        else:\n",
    "            obstacles_x[ele[0]] = [ele[1]]\n",
    "        if ele[1] in obstacles_y:\n",
    "            obstacles_y[ele[1]].append(ele[0])\n",
    "        else:\n",
    "            obstacles_y[ele[1]] = [ele[0]]\n",
    "\n",
    "    orient = 0 #方向标识，0/1/2/3分别标识北、东、南、西\n",
    "    opsition = [0,0]\n",
    "    largest_distance = 0\n",
    "    for command in commands:\n",
    "        if command == -2:\n",
    "            orient = (orient + 3)%4\n",
    "        elif command == -1:\n",
    "            orient = (orient + 1)%4\n",
    "        else:\n",
    "            if orient == 0:\n",
    "                if opsition[0] in obstacles_x:\n",
    "                    lower = opsition[1]\n",
    "                    upper = opsition[1] + command\n",
    "                    max_step = upper\n",
    "                    for ob_ele in obstacles_x[opsition[0]]:\n",
    "                        if lower<ob_ele<=max_step:\n",
    "                            max_step = ob_ele-1\n",
    "                    opsition[1] = max_step\n",
    "                else:\n",
    "                    opsition[1] += command\n",
    "            elif orient == 1:\n",
    "                if opsition[1] in obstacles_y:\n",
    "                    lower = opsition[0]\n",
    "                    upper = opsition[0] + command\n",
    "                    max_step = upper\n",
    "                    for ob_ele in obstacles_y[opsition[1]]:\n",
    "                        if lower<ob_ele<=max_step:\n",
    "                            max_step = ob_ele-1\n",
    "                    opsition[0] = max_step\n",
    "                else:\n",
    "                    opsition[0] += command\n",
    "            elif orient == 2:\n",
    "                if opsition[0] in obstacles_x:\n",
    "                    lower = opsition[1] - command\n",
    "                    upper = opsition[1]\n",
    "                    max_step = lower\n",
    "                    for ob_ele in obstacles_x[opsition[0]]:\n",
    "                        if lower<=ob_ele<upper:\n",
    "                            max_step = ob_ele+1\n",
    "                    opsition[1] = max_step\n",
    "                else:\n",
    "                    opsition[1] -= command\n",
    "            elif orient == 3:\n",
    "                if opsition[1] in obstacles_y:\n",
    "                    lower = opsition[0] - command\n",
    "                    upper = opsition[0]\n",
    "                    max_step = lower\n",
    "                    for ob_ele in obstacles_y[opsition[1]]:\n",
    "                        if lower<=ob_ele<upper:\n",
    "                            max_step = ob_ele+1\n",
    "                    opsition[0] = max_step\n",
    "                else:\n",
    "                    opsition[0] -= command\n",
    "            \n",
    "            largest_distance = max(opsition[0]**2+opsition[1]**2,largest_distance)\n",
    "    return largest_distance\n",
    "\n",
    "aaa = [1,2,-2,5,-1,-2,-1,8,3,-1,9,4,-2,3,2,4,3,9,2,-1,-1,-2,1,3,-2,4,1,4,-1,1,9,-1,-2,5,-1,5,5,-2,6,6,7,7,2,8,9,-1,7,4,6,9,9,9,-1,5,1,3,3,-1,5,9,7,4,8,-1,-2,1,3,2,9,3,-1,-2,8,8,7,5,-2,6,8,4,6,2,7,2,-1,7,-2,3,3,2,-2,6,9,8,1,-2,-1,1,4,7]\n",
    "bbb = [[-57,-58],[-72,91],[-55,35],[-20,29],[51,70],[-61,88],[-62,99],[52,17],[-75,-32],[91,-22],[54,33],[-45,-59],[47,-48],[53,-98],[-91,83],[81,12],[-34,-90],[-79,-82],[-15,-86],[-24,66],[-35,35],[3,31],[87,93],[2,-19],[87,-93],[24,-10],[84,-53],[86,87],[-88,-18],[-51,89],[96,66],[-77,-94],[-39,-1],[89,51],[-23,-72],[27,24],[53,-80],[52,-33],[32,4],[78,-55],[-25,18],[-23,47],[79,-5],[-23,-22],[14,-25],[-11,69],[63,36],[35,-99],[-24,82],[-29,-98],[-50,-70],[72,95],[80,80],[-68,-40],[65,70],[-92,78],[-45,-63],[1,34],[81,50],[14,91],[-77,-54],[13,-88],[24,37],[-12,59],[-48,-62],[57,-22],[-8,85],[48,71],[12,1],[-20,36],[-32,-14],[39,46],[-41,75],[13,-23],[98,10],[-88,64],[50,37],[-95,-32],[46,-91],[10,79],[-11,43],[-94,98],[79,42],[51,71],[4,-30],[2,74],[4,10],[61,98],[57,98],[46,43],[-16,72],[53,-69],[54,-96],[22,0],[-7,92],[-69,80],[68,-73],[-24,-92],[-21,82],[32,-1],[-6,16],[15,-29],[70,-66],[-85,80],[50,-3],[6,13],[-30,-98],[-30,59],[-67,40],[17,72],[79,82],[89,-100],[2,79],[-95,-46],[17,68],[-46,81],[-5,-57],[7,58],[-42,68],[19,-95],[-17,-76],[81,-86],[79,78],[-82,-67],[6,0],[35,-16],[98,83],[-81,100],[-11,46],[-21,-38],[-30,-41],[86,18],[-68,6],[80,75],[-96,-44],[-19,66],[21,84],[-56,-64],[39,-15],[0,45],[-81,-54],[-66,-93],[-4,2],[-42,-67],[-15,-33],[1,-32],[-74,-24],[7,18],[-62,84],[19,61],[39,79],[60,-98],[-76,45],[58,-98],[33,26],[-74,-95],[22,30],[-68,-62],[-59,4],[-62,35],[-78,80],[-82,54],[-42,81],[56,-15],[32,-19],[34,93],[57,-100],[-1,-87],[68,-26],[18,86],[-55,-19],[-68,-99],[-9,47],[24,94],[92,97],[5,67],[97,-71],[63,-57],[-52,-14],[-86,-78],[-17,92],[-61,-83],[-84,-10],[20,13],[-68,-47],[7,28],[66,89],[-41,-17],[-14,-46],[-72,-91],[4,52],[-17,-59],[-85,-46],[-94,-23],[-48,-3],[-64,-37],[2,26],[76,88],[-8,-46],[-19,-68]]\n",
    "robotSim(aaa,bbb)"
   ]
  },
  {
   "cell_type": "markdown",
   "metadata": {},
   "source": [
    "# Weekly Contest 94\n",
    "## 873. 最长的斐波那契子序列的长度"
   ]
  },
  {
   "cell_type": "code",
   "execution_count": null,
   "metadata": {
    "collapsed": true
   },
   "outputs": [],
   "source": [
    "def lenLongestFibSubseq(A):\n",
    "    \"\"\"\n",
    "    :type A: List[int]\n",
    "    :rtype: int\n",
    "    \"\"\"\n",
    "    dic_A = {}\n",
    "    for ele in A:\n",
    "        dic_A[ele] = True\n",
    "\n",
    "    max_len = 0\n",
    "    for i in range(len(A)):\n",
    "        for j in range(i+1,len(A)):\n",
    "            len_sub_sequence = 2\n",
    "            last_2 = A[i]\n",
    "            last_1 = A[j]\n",
    "            while last_2 + last_1 in dic_A:\n",
    "                len_sub_sequence += 1\n",
    "                temp = last_1\n",
    "                last_1 = last_2 + last_1\n",
    "                last_2 = temp\n",
    "            max_len = max(max_len, len_sub_sequence)\n",
    "    return max_len if max_len>2 else 0\n",
    "lenLongestFibSubseq([1,3,7])"
   ]
  },
  {
   "cell_type": "markdown",
   "metadata": {},
   "source": [
    "# Weekly Contest 91\n",
    "## 860. 柠檬水找零"
   ]
  },
  {
   "cell_type": "code",
   "execution_count": null,
   "metadata": {
    "collapsed": true
   },
   "outputs": [],
   "source": [
    "def lemonadeChange(bills):\n",
    "    \"\"\"\n",
    "    :type bills: List[int]\n",
    "    :rtype: bool\n",
    "    \"\"\"\n",
    "\n",
    "    money_count = [0,0,0] #记录钱包里面5、10、20元的张数\n",
    "\n",
    "    for bill in bills:\n",
    "        if bill == 5:\n",
    "            money_count[0] += 1\n",
    "        elif bill == 10:\n",
    "            if money_count[0]:\n",
    "                money_count[0] -= 1\n",
    "                money_count[1] += 1\n",
    "            else:\n",
    "                return False\n",
    "        else:\n",
    "            if money_count[1]:\n",
    "                if money_count[0]:\n",
    "                    money_count[0] -= 1\n",
    "                    money_count[1] -= 1\n",
    "                    money_count[2] += 1\n",
    "                else:\n",
    "                    return False\n",
    "            elif money_count[0]>=3:\n",
    "                money_count[0] -= 3\n",
    "                money_count[2] += 1\n",
    "            else:\n",
    "                return False\n",
    "    return True"
   ]
  }
 ],
 "metadata": {
  "kernelspec": {
   "display_name": "Python 3",
   "language": "python",
   "name": "python3"
  },
  "language_info": {
   "codemirror_mode": {
    "name": "ipython",
    "version": 3
   },
   "file_extension": ".py",
   "mimetype": "text/x-python",
   "name": "python",
   "nbconvert_exporter": "python",
   "pygments_lexer": "ipython3",
   "version": "3.6.6"
  }
 },
 "nbformat": 4,
 "nbformat_minor": 2
}
