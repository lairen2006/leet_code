{
 "cells": [
  {
   "cell_type": "markdown",
   "metadata": {},
   "source": [
    "## 219. 存在重复元素 II"
   ]
  },
  {
   "cell_type": "code",
   "execution_count": 10,
   "metadata": {
    "collapsed": false
   },
   "outputs": [],
   "source": [
    "# beat 49%\n",
    "def containsNearbyDuplicate(nums, k):\n",
    "        \"\"\"\n",
    "        :type nums: List[int]\n",
    "        :type k: int\n",
    "        :rtype: bool\n",
    "        \"\"\"\n",
    "\n",
    "        dic_run={}\n",
    "        for i,ele in enumerate(nums):\n",
    "            if ele in dic_run and i-dic_run[ele]<=k:\n",
    "                return True\n",
    "            dic_run[ele] = i\n",
    "        return False"
   ]
  },
  {
   "cell_type": "code",
   "execution_count": 11,
   "metadata": {
    "collapsed": false,
    "scrolled": true
   },
   "outputs": [
    {
     "data": {
      "text/plain": [
       "False"
      ]
     },
     "execution_count": 11,
     "metadata": {},
     "output_type": "execute_result"
    }
   ],
   "source": [
    "containsNearbyDuplicate([5,25,75], 100)"
   ]
  },
  {
   "cell_type": "markdown",
   "metadata": {
    "collapsed": true
   },
   "source": [
    "## 105. 从前序与中序遍历序列构造二叉树"
   ]
  },
  {
   "cell_type": "code",
   "execution_count": 9,
   "metadata": {
    "collapsed": false
   },
   "outputs": [],
   "source": [
    "# beat 86%\n",
    "def buildTree( preorder, inorder):\n",
    "    \"\"\"\n",
    "    :type preorder: List[int]\n",
    "    :type inorder: List[int]\n",
    "    :rtype: TreeNode\n",
    "    \"\"\"\n",
    "    if not preorder:\n",
    "            return None\n",
    "    def generate_node(x0,xn,y0,yn):\n",
    "        if x0 == xn:\n",
    "            return None\n",
    "        val_0 = preorder[x0]\n",
    "        node = TreeNode(val_0)\n",
    "        inorder_index_val_0 = inorder.index(val_0)\n",
    "        length_left = inorder_index_val_0 - y0\n",
    "        length_right = yn - inorder_index_val_0\n",
    "        if length_left:\n",
    "            node.left = generate_node(x0+1,x0+1+length_left,y0,y0+length_left)\n",
    "        else:\n",
    "            node.left = None\n",
    "        if length_right:\n",
    "            node.right = generate_node(x0+1+length_left,xn,y0+length_left+1,yn)\n",
    "        else:\n",
    "            node.right = None\n",
    "        return node\n",
    "    return generate_node(0,len(preorder),0,len(inorder))"
   ]
  },
  {
   "cell_type": "markdown",
   "metadata": {},
   "source": [
    "## 661. 图片平滑器"
   ]
  },
  {
   "cell_type": "code",
   "execution_count": 4,
   "metadata": {
    "collapsed": false
   },
   "outputs": [
    {
     "data": {
      "text/plain": [
       "[[4, 4, 5], [5, 6, 6], [8, 9, 9], [11, 12, 12], [13, 13, 14]]"
      ]
     },
     "execution_count": 4,
     "metadata": {},
     "output_type": "execute_result"
    }
   ],
   "source": [
    "# beat 19%\n",
    "import math\n",
    "def imageSmoother( M):\n",
    "    \"\"\"\n",
    "    :type M: List[List[int]]\n",
    "    :rtype: List[List[int]]\n",
    "    \"\"\"\n",
    "    width = len(M)\n",
    "    height = len(M[0])\n",
    "    ret_matrix = []\n",
    "    for i in range(len(M)):\n",
    "        temp = []\n",
    "        for j in range(len(M[0])):\n",
    "            aaa = [M[k][l] for k in range(i-1,i+2) for l in range(j-1,j+2) if k>=0 and k<width and l>=0 and l<height]\n",
    "            #print(aaa)\n",
    "            temp.append(math.floor(sum(aaa)/len(aaa)))\n",
    "        ret_matrix.append(temp)\n",
    "    return ret_matrix\n",
    "\n",
    "imageSmoother([[2,3,4],[5,6,7],[8,9,10],[11,12,13],[14,15,16]])"
   ]
  },
  {
   "cell_type": "markdown",
   "metadata": {},
   "source": [
    "## 766. 托普利茨矩阵"
   ]
  },
  {
   "cell_type": "code",
   "execution_count": 6,
   "metadata": {
    "collapsed": false
   },
   "outputs": [
    {
     "data": {
      "text/plain": [
       "False"
      ]
     },
     "execution_count": 6,
     "metadata": {},
     "output_type": "execute_result"
    }
   ],
   "source": [
    "# beat 63%\n",
    "def isToeplitzMatrix(matrix):\n",
    "        \"\"\"\n",
    "        :type matrix: List[List[int]]\n",
    "        :rtype: bool\n",
    "        \"\"\"\n",
    "        \n",
    "        height = len(matrix)\n",
    "        width = len(matrix[0])\n",
    "        for i in range(width):\n",
    "            aaa = matrix[0][i]\n",
    "            for j in range(i+1, min(width, i+height)):\n",
    "                if matrix[j-i][j] != aaa:\n",
    "                    return False\n",
    "        for i in range(1,height):\n",
    "            aaa=matrix[i][0]\n",
    "            for j in range(i+1, min(height,i+width)):\n",
    "                if matrix[j][j-i] != aaa:\n",
    "                    return False\n",
    "        return True\n",
    "isToeplitzMatrix([[1,2],[2,2]])"
   ]
  },
  {
   "cell_type": "markdown",
   "metadata": {},
   "source": [
    "## 4. 两个排序数组的中位数\n",
    "\n",
    "**方案一**\n",
    "\n",
    "合并数组后排序，并取中位数。该算法最简单，时间复杂度为O((M+N)log(M+N))  ——>python sort函数采用Timesort算法，最好情况下时间复杂度为O(N)，平均情况和最差情况时间复杂度为O(Nlog(N))\n",
    "\n",
    "**方案二**\n",
    "\n",
    "遍历两个数组的每个元素，按大小顺序合并。算法复杂度O(M+N)\n",
    "\n",
    "**方案三**\n",
    "\n",
    "思路来源于：https://blog.csdn.net/hk2291976/article/details/51107778\n",
    "\n",
    "测试未通过。\n",
    "\n",
    "**方案四**\n",
    "\n",
    "采用二分法。\n",
    "\n",
    "如果数组a的中位数小于数组b的中位数，那么整体的中位数只可能出现在a的右区间加上b的左区间之中； \n",
    "\n",
    "如果数组a的中位数大于等于数组b的中位数，那么整体的中位数只可能出现在a的左区间加上b的右区间之中。 \n",
    "\n",
    "关键就是利用分治的思想逐渐缩小a的区间和b的区间来找到中位数。\n",
    "\n",
    "时间复杂度为O(log(M+N))\n"
   ]
  },
  {
   "cell_type": "markdown",
   "metadata": {},
   "source": [
    "**float('inf') 用于表示python中最大值，最小值用float('-inf')表示。**"
   ]
  },
  {
   "cell_type": "code",
   "execution_count": 5,
   "metadata": {
    "collapsed": true
   },
   "outputs": [],
   "source": [
    "def findMedianSortedArrays_1(nums1, nums2):\n",
    "    \"\"\"\n",
    "    :type nums1: List[int]\n",
    "    :type nums2: List[int]\n",
    "    :rtype: float\n",
    "    \"\"\"\n",
    "    # 方案一\n",
    "    aaa = sorted(nums1+nums2)\n",
    "    return (aaa[math.floor((len(aaa)-1)/2)] + aaa[math.ceil((len(aaa)-1)/2)])/2"
   ]
  },
  {
   "cell_type": "code",
   "execution_count": 6,
   "metadata": {
    "collapsed": true
   },
   "outputs": [],
   "source": [
    "def findMedianSortedArrays_2(nums1, nums2):\n",
    "    \"\"\"\n",
    "    :type nums1: List[int]\n",
    "    :type nums2: List[int]\n",
    "    :rtype: float\n",
    "    \"\"\"\n",
    "\n",
    "    # 方案二\n",
    "    aaa = []\n",
    "    while nums1 and nums2:\n",
    "        if nums1[0]<nums2[0]:\n",
    "            aaa.append(nums1.pop(0))\n",
    "        else:\n",
    "            aaa.append(nums2.pop(0))\n",
    "    if nums1:\n",
    "        aaa.extend(nums1)\n",
    "    if nums2:\n",
    "        aaa.extend(nums2)\n",
    "    return (aaa[math.floor((len(aaa)-1)/2)] + aaa[math.ceil((len(aaa)-1)/2)])/2"
   ]
  },
  {
   "cell_type": "code",
   "execution_count": 10,
   "metadata": {
    "collapsed": true
   },
   "outputs": [],
   "source": [
    "def findMedianSortedArrays_3(nums1, nums2):\n",
    "    \"\"\"\n",
    "    :type nums1: List[int]\n",
    "    :type nums2: List[int]\n",
    "    :rtype: float\n",
    "    \"\"\"\n",
    "    # 方案三  未成功\n",
    "    n = len(nums1)\n",
    "    m = len(nums2)\n",
    "    L1,L2,R1,R2,c1,c2,lo = 0,0,0,0,0,0,0\n",
    "    hi = 2*n\n",
    "    while lo <= hi:\n",
    "        c1 = (lo+hi)//2\n",
    "        c2 = m+n- c1\n",
    "        print('c1,c2:',c1,c2)\n",
    "        L1 = float('-inf') if c1 == 0 else nums1[(c1-1)//2]\n",
    "        R1 = float('inf') if c1 == 2*n else nums1[c1//2]\n",
    "        L2 = float('-inf') if c2 == 0 else nums2[(c2-1)//2]\n",
    "        R2 =float('inf') if c2 == 2*m else nums2[c2//2]\n",
    "        print('L1,R1,L2,R2:',L1,R1,L2,R2)\n",
    "        if L1 > R2:\n",
    "            hi = c1 -1\n",
    "        elif L2 > R1:\n",
    "            lo = c1 + 1\n",
    "        else:\n",
    "            break\n",
    "\n",
    "    return (max(L1,L2)+ min(R1,R2))/2.0"
   ]
  },
  {
   "cell_type": "code",
   "execution_count": 21,
   "metadata": {
    "collapsed": false
   },
   "outputs": [],
   "source": [
    "#beat 24%\n",
    "def findMedianSortedArrays_4(nums1, nums2):\n",
    "    \"\"\"\n",
    "    :type nums1: List[int]\n",
    "    :type nums2: List[int]\n",
    "    :rtype: float\n",
    "    \"\"\"\n",
    "    # 方案四\n",
    "    m = len(nums1)\n",
    "    n = len(nums2)\n",
    "\n",
    "    if not nums1:\n",
    "        if n%2 != 0:\n",
    "            return 1.0*nums2[n//2]\n",
    "        return (nums2[n//2]+nums2[n//2-1])/2.0\n",
    "        \n",
    "    if not nums2:\n",
    "        if m%2 != 0:\n",
    "            return 1.0*nums1[m//2]\n",
    "        return (nums1[m//2]+nums1[m//2-1])/2.0\n",
    "    \n",
    "\n",
    "    total = (m+n+1)//2;\n",
    "    total2 = (m+n+2)//2;\n",
    "\n",
    "    return (find_kth(nums1,0,nums2,0,total)+find_kth(nums1,0,nums2,0,total2))/2.0\n",
    "\n",
    "def find_kth(a, a_begin, b, b_begin, k):\n",
    "\n",
    "    if a_begin > len(a)-1:\n",
    "        return b[b_begin+k-1]\n",
    "    if b_begin > len(b)-1:\n",
    "        return a[a_begin+k-1]\n",
    "    if k == 1:\n",
    "        return min(a[a_begin],b[b_begin])\n",
    "\n",
    "    mid_a = float('inf')\n",
    "    mid_b = float('inf')\n",
    "    if a_begin+k//2-1 < len(a):\n",
    "        mid_a = a[a_begin+k//2-1]\n",
    "    if b_begin+k//2-1 < len(b):\n",
    "        mid_b = b[b_begin+k//2-1]\n",
    "\n",
    "    if mid_a < mid_b:\n",
    "        return find_kth(a,a_begin+k//2,b,b_begin,k-k//2)\n",
    "    return find_kth(a,a_begin,b,b_begin+k//2,k-k//2)"
   ]
  },
  {
   "cell_type": "code",
   "execution_count": 25,
   "metadata": {
    "collapsed": false
   },
   "outputs": [
    {
     "data": {
      "text/plain": [
       "2.5"
      ]
     },
     "execution_count": 25,
     "metadata": {},
     "output_type": "execute_result"
    }
   ],
   "source": [
    "findMedianSortedArrays_4([2,3,4],[1,2,6])"
   ]
  },
  {
   "cell_type": "markdown",
   "metadata": {},
   "source": [
    "## 15. 三数之和\n",
    "\n",
    "**方案一**\n",
    "\n",
    "夹逼方式，先排序。取第一个数锚定，左指针指向右边第一个数，右指针指向数组末尾。三个数之和大于目标值=>右指针左移；三个数之和大于目标值=>左指针右移。\n",
    "\n",
    "时间复杂度：排序=> $O(NlogN)$，夹逼：$O(N^{2})$\n",
    "\n",
    "\n",
    "**方案二**\n",
    "\n",
    "leetcode排名第一解决方案。采用hash寻址。时间复杂度$O(N^{2}/4)$"
   ]
  },
  {
   "cell_type": "code",
   "execution_count": 5,
   "metadata": {
    "collapsed": true
   },
   "outputs": [],
   "source": [
    "# beat 4%\n",
    "# 方案一\n",
    "def threeSum(nums):\n",
    "    \"\"\"\n",
    "    :type nums: List[int]\n",
    "    :rtype: List[List[int]]\n",
    "    \"\"\"\n",
    "    nums.sort()\n",
    "    ret_list = []\n",
    "    for i,ele in enumerate(nums):\n",
    "        if i==0 or ele!= nums[i-1]:\n",
    "            target = -ele\n",
    "            point_left = i+1\n",
    "            point_right = len(nums)-1\n",
    "            while point_left < point_right:\n",
    "                if nums[point_left] + nums[point_right] > target:\n",
    "                    point_right -= 1\n",
    "                elif nums[point_left] + nums[point_right] < target:\n",
    "                    point_left += 1\n",
    "                else:\n",
    "                    aaa = [ele, nums[point_left], nums[point_right]]\n",
    "                    if ret_list:\n",
    "                        if aaa != ret_list[-1]:\n",
    "                            ret_list.append(aaa)\n",
    "                    else:\n",
    "                        ret_list.append(aaa)\n",
    "                    point_left += 1\n",
    "                    point_right -= 1\n",
    "    return ret_list"
   ]
  },
  {
   "cell_type": "code",
   "execution_count": null,
   "metadata": {
    "collapsed": true
   },
   "outputs": [],
   "source": [
    "# beat 95%\n",
    "#方案二\n",
    "def threeSum( nums):\n",
    "    \"\"\"\n",
    "    :type nums: List[int]\n",
    "    :rtype: List[List[int]]\n",
    "    \"\"\"\n",
    "    diction = {}\n",
    "    for num in nums:\n",
    "        if num in diction:\n",
    "            diction[num] += 1\n",
    "        else:\n",
    "            diction[num] = 1\n",
    "\n",
    "    dictkey = diction.keys()\n",
    "    pos , neg = [], []\n",
    "    for p in dictkey:\n",
    "        if p >= 0:\n",
    "            pos.append(p)\n",
    "        else:\n",
    "            neg.append(p)\n",
    "\n",
    "    sorted(pos)\n",
    "    sorted(neg)\n",
    "\n",
    "    rsts = []\n",
    "    rst = []\n",
    "    if 0 in dictkey and diction[0] > 2:\n",
    "        rsts.append([0,0,0])\n",
    "    pos.reverse()\n",
    "    for p in pos:\n",
    "        for n in neg:\n",
    "            inverse = -(p + n)\n",
    "            if inverse in dictkey:\n",
    "                if (inverse == p or inverse == n) and diction[inverse] > 1:\n",
    "                    rst = [inverse,p,n]\n",
    "                    rsts.append(sorted(rst))\n",
    "                if inverse > p or inverse < n:\n",
    "                    rst = [inverse,p,n]\n",
    "                    rsts.append(sorted(rst))\n",
    "\n",
    "    return rsts"
   ]
  },
  {
   "cell_type": "markdown",
   "metadata": {},
   "source": [
    "## 18. 四数之和\n",
    "\n",
    "**方案一**\n",
    "\n",
    "在**15.三数之和**的基础上，固定一个指针，并调用三数之和的函数计算得到。时间复杂度为$O(N^{3})$\n",
    "<font color=\"#ff0000\"><b>这里调用三数之和函数，采用生成器的方式。较普通采用返回list遍历方式略快约5%。</b></font>\n",
    "\n",
    "\n",
    "**方案二**\n",
    "\n",
    "leetcode上排名第一的方法。采用函数迭代的方式，本质思想和方案一一样。\n",
    "\n",
    "**方案三**\n",
    "\n",
    "在方案二的启发之下，将方案一代码进行重构。这里的改进有几点：\n",
    "\n",
    "<font color=\"#ff0000\"><b>1、在每一个遍历之前，先判断数组的left指针所在数乘以n是否大于target，如果大于，放弃遍历。这是由于数组本身已经进行排序，如果最小的值乘以n都大于目标值，那么后面的数相加肯定也大于目标值，因此放弃遍历。</b></font>\n",
    "<br>\n",
    "<font color=\"#ff0000\"><b>2、和第1点类似，判断right指针所指的数乘以n是否小于target，是则放弃遍历。</b></font>\n",
    "<br>\n",
    "<h3><font color=\"#ff0000\"><b>上面两点居然将运行时间从1100ms左右降到120ms左右！</b></font></h3>\n",
    "<br>\n",
    "<b>3、跳过一些重复值。例如在遍历前确认当前锚定的值是否和上一个锚定的指相同，是则跳过；在找到target指针后，判断左右指针移位后的数是不是一样的，是则跳过。这里时间大约节省10%。</b>"
   ]
  },
  {
   "cell_type": "code",
   "execution_count": null,
   "metadata": {
    "collapsed": true
   },
   "outputs": [],
   "source": [
    "# 方案一\n",
    "def fourSum(nums, target):\n",
    "    \"\"\"\n",
    "    :type nums: List[int]\n",
    "    :type target: int\n",
    "    :rtype: List[List[int]]\n",
    "    \"\"\"\n",
    "    def threeSum(nums2,target_3_sum):\n",
    "        \"\"\"\n",
    "        :type nums2: List[int]\n",
    "        :rtype: List[List[int]]\n",
    "        \"\"\"\n",
    "        # nums2.sort()\n",
    "        ret_list = []\n",
    "        for i,ele in enumerate(nums2):\n",
    "            if nums2[i]*3 > target_3_sum:\n",
    "                continue\n",
    "            if i==0 or ele!= nums2[i-1]:\n",
    "                target = target_3_sum - ele\n",
    "                point_left = i+1\n",
    "                point_right = len(nums2)-1\n",
    "                while point_left < point_right:\n",
    "                    if nums2[point_left] + nums2[point_right] > target:\n",
    "                        point_right -= 1\n",
    "                    elif nums2[point_left] + nums2[point_right] < target:\n",
    "                        point_left += 1\n",
    "                    else:\n",
    "                        aaa = [ele, nums2[point_left], nums2[point_right]]\n",
    "                        if ret_list:\n",
    "                            if aaa != ret_list[-1]:\n",
    "                                yield aaa\n",
    "                                ret_list.append(aaa)\n",
    "                        else:\n",
    "                            yield aaa\n",
    "                            ret_list.append(aaa)\n",
    "                        point_left += 1\n",
    "                        point_right -= 1\n",
    "        return ret_list\n",
    "        #return ret_list\n",
    "\n",
    "    _4_sum_list = []\n",
    "    nums.sort()\n",
    "    for i in range(len(nums)-3):\n",
    "        if nums[i]*4 > target:\n",
    "            continue\n",
    "        if i==0 or nums[i]!= nums[i-1]:\n",
    "            ele = nums[i]\n",
    "            for aaa in threeSum(nums[i+1:],target-ele):\n",
    "                _4_sum_list.append([ele]+aaa)\n",
    "            #_3sum_list = threeSum(nums[i+1:],target-ele)\n",
    "            #for aaa in _3sum_list:\n",
    "            #    _4_sum_list.append([ele]+aaa)\n",
    "    return _4_sum_list"
   ]
  },
  {
   "cell_type": "code",
   "execution_count": null,
   "metadata": {
    "collapsed": true
   },
   "outputs": [],
   "source": [
    "# 方案二\n",
    "def fourSum(nums, target):\n",
    "    \"\"\"\n",
    "    :type nums: List[int]\n",
    "    :type target: int\n",
    "    :rtype: List[List[int]]\n",
    "    \"\"\"\n",
    "\n",
    "\n",
    "    sorted_nums = sorted(nums)\n",
    "    results = []\n",
    "    self.find_n_sum(sorted_nums, target=target, n=4, result_prefix=[], results=results)\n",
    "\n",
    "    return results\n",
    "\n",
    "\n",
    "def find_n_sum(sorted_nums, target, n, result_prefix, results):\n",
    "    nums_len = len(sorted_nums)\n",
    "    if n > nums_len:\n",
    "        return -1\n",
    "\n",
    "    ## as sorted_nums is a sorted list, we can simplify some special conditions\n",
    "    if (target < sorted_nums[0] * n) or (target > sorted_nums[-1] * n):\n",
    "        return -2\n",
    "\n",
    "    if n == 1:\n",
    "        for num in sorted_nums:\n",
    "            if num == target:\n",
    "                results.append([num])\n",
    "                return 0\n",
    "        return -2\n",
    "    elif n == 2:\n",
    "        ## find 2 elements in list whose sum is target\n",
    "        idx_l, idx_r = 0, nums_len - 1\n",
    "        while idx_l < idx_r:\n",
    "            element_sum = sorted_nums[idx_l] + sorted_nums[idx_r]\n",
    "            if element_sum < target:\n",
    "                idx_l += 1\n",
    "            elif element_sum > target:\n",
    "                idx_r -= 1\n",
    "            else:\n",
    "                ## a 2-element tuple is found\n",
    "                ## add this solution into results list\n",
    "                aux = result_prefix + [sorted_nums[idx_l], sorted_nums[idx_r]]\n",
    "                results.append(aux)\n",
    "\n",
    "                idx_l += 1\n",
    "                idx_r -= 1\n",
    "\n",
    "                ## to pass duplicate elements in list\n",
    "                while (idx_l < idx_r) & (sorted_nums[idx_l] == sorted_nums[idx_l - 1]):\n",
    "                    idx_l += 1\n",
    "                while (idx_l < idx_r) & (sorted_nums[idx_r] == sorted_nums[idx_r + 1]):\n",
    "                    idx_r -= 1\n",
    "        return 0\n",
    "    else:\n",
    "        ## Try the SMALLEST element sorted_nums[i] in the n-tuple\n",
    "        ##  and find the other (n-1)-tuple in remaining list sorted_nums[i+1:]\n",
    "        for i in range(0, len(sorted_nums) - n + 1):\n",
    "            if sorted_nums[i] * n > target:\n",
    "                break\n",
    "            elif (i > 0) & (sorted_nums[i] == sorted_nums[i-1]):\n",
    "                pass\n",
    "            else:\n",
    "                self.find_n_sum(sorted_nums[i + 1:],\n",
    "                                target - sorted_nums[i],\n",
    "                                n - 1,\n",
    "                                result_prefix+[sorted_nums[i]],\n",
    "                                results)"
   ]
  },
  {
   "cell_type": "code",
   "execution_count": null,
   "metadata": {
    "collapsed": true
   },
   "outputs": [],
   "source": [
    "# beat 98%\n",
    "# 方案三\n",
    "def fourSum(nums, target):\n",
    "    \"\"\"\n",
    "    :type nums: List[int]\n",
    "    :type target: int\n",
    "    :rtype: List[List[int]]\n",
    "    \"\"\"\n",
    "    \n",
    "    \n",
    "    if not nums:\n",
    "        return []\n",
    "\n",
    "    _4_sum_list = []\n",
    "    nums.sort()\n",
    "    if nums[-1]*4 < target:\n",
    "        return []\n",
    "    for i in range(len(nums)-3):\n",
    "        if nums[i]*4 > target:\n",
    "            break\n",
    "        if i==0 or nums[i]!= nums[i-1]:\n",
    "            ele = nums[i]\n",
    "            target_3_sum = target - ele\n",
    "            if nums[-1]*3 < target_3_sum:\n",
    "                continue\n",
    "            for j in range(i+1,len(nums)-2):\n",
    "                ele2 = nums[j]\n",
    "                if ele2*3 > target_3_sum:\n",
    "                    break\n",
    "                if j==i+1 or ele2!= nums[j-1]:\n",
    "                    target_2_sum = target_3_sum - ele2\n",
    "                    point_left = j+1\n",
    "                    point_right = len(nums)-1\n",
    "                    if nums[point_left]*2 > target_2_sum or nums[point_right]*2 < target_2_sum:\n",
    "                        continue\n",
    "                    while point_left < point_right:\n",
    "                        if nums[point_left] + nums[point_right] > target_2_sum:\n",
    "                            point_right -= 1\n",
    "                        elif nums[point_left] + nums[point_right] < target_2_sum:\n",
    "                            point_left += 1\n",
    "                        else:\n",
    "                            aaa = [ele, ele2,nums[point_left], nums[point_right]]\n",
    "                            _4_sum_list.append(aaa)\n",
    "                            point_left += 1\n",
    "                            point_right -= 1\n",
    "                            while point_left < point_right and nums[point_left] == nums[point_left-1]:\n",
    "                                point_left += 1\n",
    "                            while point_left < point_right and nums[point_right] == nums[point_right+1]:\n",
    "                                point_right -= 1\n",
    "\n",
    "\n",
    "    return _4_sum_list\n"
   ]
  },
  {
   "cell_type": "markdown",
   "metadata": {},
   "source": [
    "## 33. 搜索旋转排序数组\n",
    "\n",
    "**方案一**\n",
    "\n",
    "python内置index()方法。时间复杂度O(N)\n",
    "\n",
    "**方案二**\n",
    "\n",
    "二分法。时间复杂度O(logN)"
   ]
  },
  {
   "cell_type": "code",
   "execution_count": 20,
   "metadata": {
    "collapsed": true
   },
   "outputs": [],
   "source": [
    "# 方案一 beat 55%\n",
    "# 方案二 beat 20%\n",
    "def search(nums, target):\n",
    "    \"\"\"\n",
    "    :type nums: List[int]\n",
    "    :type target: int\n",
    "    :rtype: int\n",
    "    \"\"\"\n",
    "    # 方案一\n",
    "    #try:\n",
    "    #    return nums.index(target)\n",
    "    #except Exception as e:\n",
    "    #    return -1\n",
    "\n",
    "    # 方案二\n",
    "    list_len = len(nums)\n",
    "    def is_target(list_to_detect,tar):\n",
    "        print(list_to_detect)\n",
    "        n = len(list_to_detect)\n",
    "        if not n:\n",
    "            return list_len\n",
    "        if n<=3:\n",
    "            try:\n",
    "                return list_to_detect.index(tar)\n",
    "            except Exception as e:\n",
    "                return list_len\n",
    "        mid = (n-1)//2\n",
    "        if (list_to_detect[0] <= tar <= list_to_detect[mid]) or (list_to_detect[0] > list_to_detect[mid] and(tar >= list_to_detect[0] or tar <=list_to_detect[mid])):\n",
    "            return is_target(list_to_detect[:mid+1],tar)\n",
    "        if (list_to_detect[mid+1] <= tar <= list_to_detect[-1]) or (list_to_detect[mid+1] > list_to_detect[-1] and(tar >= list_to_detect[mid+1] or tar <=list_to_detect[-1])):\n",
    "            return mid + 1 + is_target(list_to_detect[mid+1:],tar)\n",
    "        return list_len\n",
    "\n",
    "    aaa = is_target(nums,target)\n",
    "    return aaa if aaa<list_len else -1"
   ]
  },
  {
   "cell_type": "code",
   "execution_count": 21,
   "metadata": {
    "collapsed": false,
    "scrolled": false
   },
   "outputs": [
    {
     "name": "stdout",
     "output_type": "stream",
     "text": [
      "[4, 5, 6, 7, 0, 1, 2]\n"
     ]
    },
    {
     "data": {
      "text/plain": [
       "-1"
      ]
     },
     "execution_count": 21,
     "metadata": {},
     "output_type": "execute_result"
    }
   ],
   "source": [
    "search([4,5,6,7,0,1,2],3)"
   ]
  },
  {
   "cell_type": "markdown",
   "metadata": {
    "collapsed": true
   },
   "source": [
    "## 39. 组合总和 \n",
    "\n",
    "采用背包算法"
   ]
  },
  {
   "cell_type": "code",
   "execution_count": 3,
   "metadata": {
    "collapsed": false
   },
   "outputs": [
    {
     "name": "stdout",
     "output_type": "stream",
     "text": [
      "[[[]], [], [[2]], [], [[2, 2]], [], [[2, 2, 2]], []]\n",
      "[[[]], [], [[2]], [[3]], [[2, 2]], [[2, 3]], [[2, 2, 2], [3, 3]], [[2, 2, 3]]]\n",
      "[[[]], [], [[2]], [[3]], [[2, 2]], [[2, 3]], [[2, 2, 2], [3, 3], [6]], [[2, 2, 3]]]\n",
      "[[[]], [], [[2]], [[3]], [[2, 2]], [[2, 3]], [[2, 2, 2], [3, 3], [6]], [[2, 2, 3], [7]]]\n"
     ]
    },
    {
     "data": {
      "text/plain": [
       "[[2, 2, 3], [7]]"
      ]
     },
     "execution_count": 3,
     "metadata": {},
     "output_type": "execute_result"
    }
   ],
   "source": [
    "# beat 93%\n",
    "def combinationSum(candidates, target):\n",
    "        \"\"\"\n",
    "        :type candidates: List[int]\n",
    "        :type target: int\n",
    "        :rtype: List[List[int]]\n",
    "        \"\"\"\n",
    "        \n",
    "        candidates = list(set(candidates))\n",
    "        list_ret = [[] for i in range(0,target+1)]\n",
    "        list_ret[0] = [[]]\n",
    "        for ele in candidates:\n",
    "            for i in range(1,target+1):\n",
    "                if ele <= i:\n",
    "                    if list_ret[i-ele]:\n",
    "                        for li in list_ret[i-ele]:\n",
    "                            new_li = li + [ele]\n",
    "                            list_ret[i].append(new_li)\n",
    "            print(list_ret)\n",
    "        return list_ret[target]\n",
    "combinationSum([2,3,6,7], 7)"
   ]
  },
  {
   "cell_type": "markdown",
   "metadata": {},
   "source": [
    "## 40. 组合总数II\n",
    "做法与“39. 组合总数”题类似。不同的地方在于这里不考虑元素重复使用，所以每一个元素的遍历调整为从目标数高到低。\n",
    "上述做法避免了元素自身重复使用的问题，但是没有避免元素和之前的元素重复的问题。因此，在每一步将目标序列纳入之前，还需要判断序列是不是已经在备选的集合里了。"
   ]
  },
  {
   "cell_type": "code",
   "execution_count": 38,
   "metadata": {
    "collapsed": false
   },
   "outputs": [
    {
     "name": "stdout",
     "output_type": "stream",
     "text": [
      "2\n",
      "[[[]], [], [[2]], [], [], []]\n",
      "5\n",
      "[[[]], [], [[2]], [], [], [[5]]]\n",
      "1\n",
      "[[[]], [[1]], [[2]], [[2, 1]], [], [[5]]]\n",
      "1\n",
      "[[[]], [[1]], [[2], [1, 1]], [[2, 1]], [[2, 1, 1]], [[5]]]\n",
      "2\n",
      "[[[]], [[1]], [[2], [1, 1]], [[2, 1]], [[2, 1, 1], [2, 2]], [[5], [2, 1, 2]]]\n",
      "3\n",
      "[[[]], [[1]], [[2], [1, 1]], [[2, 1], [3]], [[2, 1, 1], [2, 2], [1, 3]], [[5], [2, 1, 2], [2, 3], [1, 1, 3]]]\n",
      "3\n",
      "[[[]], [[1]], [[2], [1, 1]], [[2, 1], [3]], [[2, 1, 1], [2, 2], [1, 3]], [[5], [2, 1, 2], [2, 3], [1, 1, 3]]]\n",
      "3\n",
      "[[[]], [[1]], [[2], [1, 1]], [[2, 1], [3]], [[2, 1, 1], [2, 2], [1, 3]], [[5], [2, 1, 2], [2, 3], [1, 1, 3]]]\n",
      "1\n",
      "[[[]], [[1]], [[2], [1, 1]], [[2, 1], [3], [1, 1, 1]], [[2, 1, 1], [2, 2], [1, 3]], [[5], [2, 1, 2], [2, 3], [1, 1, 3], [2, 1, 1, 1]]]\n",
      "2\n",
      "[[[]], [[1]], [[2], [1, 1]], [[2, 1], [3], [1, 1, 1]], [[2, 1, 1], [2, 2], [1, 3]], [[5], [2, 1, 2], [2, 3], [1, 1, 3], [2, 1, 1, 1]]]\n",
      "2\n",
      "[[[]], [[1]], [[2], [1, 1]], [[2, 1], [3], [1, 1, 1]], [[2, 1, 1], [2, 2], [1, 3]], [[5], [2, 1, 2], [2, 3], [1, 1, 3], [2, 1, 1, 1]]]\n"
     ]
    },
    {
     "data": {
      "text/plain": [
       "[[5], [2, 1, 2], [2, 3], [1, 1, 3], [2, 1, 1, 1]]"
      ]
     },
     "execution_count": 38,
     "metadata": {},
     "output_type": "execute_result"
    }
   ],
   "source": [
    "# beat 36%\n",
    "def combinationSum(candidates, target):\n",
    "        \"\"\"\n",
    "        :type candidates: List[int]\n",
    "        :type target: int\n",
    "        :rtype: List[List[int]]\n",
    "        \"\"\"\n",
    "        \n",
    "        #这里没有针对candidates做去重处理\n",
    "        list_ret = [[] for i in range(0,target+1)]\n",
    "        list_ret[0] = [[]]\n",
    "        for ele in candidates:\n",
    "            # 修改为从高到低遍历\n",
    "            for i in range(target,0,-1):\n",
    "                if ele <= i:\n",
    "                    if list_ret[i-ele]:\n",
    "                        for li in list_ret[i-ele]:\n",
    "                            new_li = li + [ele]\n",
    "                            # 添加判断元素重复的语句\n",
    "                            j = False\n",
    "                            for old_list in list_ret[i]:\n",
    "                                if sorted(old_list) == sorted(new_li):\n",
    "                                    j = True\n",
    "                                    break\n",
    "                            if not j:\n",
    "                                list_ret[i].append(new_li)\n",
    "            print(list_ret)\n",
    "        return list_ret[target]\n",
    "combinationSum([2,5,1,1,2,3,3,3,1,2,2], 5)"
   ]
  },
  {
   "cell_type": "markdown",
   "metadata": {},
   "source": [
    "## 48. 旋转图像\n",
    "一个简单的数组遍历方法，只要拿着举例看下数据的翻转方式，对着构造遍历顺序就可以了。\n",
    "一开始的做法是\n",
    "\n",
    "    matrix = [[matrix[i][j]  for i in range(len(matrix)-1,-1,-1)] for j in range(0,len(matrix[0])) ]\n",
    "\n",
    "发现结果matrix没变化。这是python的浅拷贝和深拷贝的问题。具体这里讲解的很清楚。 ==>[戳这里](https://www.cnblogs.com/wilber2013/p/4645353.html)\n",
    "显然，换成下面这种方式就行。\n",
    "    \n",
    "    matrix[:] = [[matrix[i][j]  for i in range(len(matrix)-1,-1,-1)] for j in range(0,len(matrix[0])) ]"
   ]
  },
  {
   "cell_type": "code",
   "execution_count": 1,
   "metadata": {
    "collapsed": false
   },
   "outputs": [
    {
     "name": "stdout",
     "output_type": "stream",
     "text": [
      "1 81660616\n",
      "2 81660616\n",
      "3 81660488\n",
      "4 81660616\n"
     ]
    }
   ],
   "source": [
    "# beat 63%\n",
    "def rotate(matrix):\n",
    "        \"\"\"\n",
    "        :type matrix: List[List[int]]\n",
    "        :rtype: void Do not return anything, modify matrix in-place instead.\n",
    "        \"\"\"\n",
    "        matrix[:] = [[matrix[i][j]  for i in range(len(matrix)-1,-1,-1)] for j in range(0,len(matrix[0])) ]\n",
    "\n",
    "\n",
    "matrix =[ [ 5, 1, 9,11],  [ 2, 4, 8,10],  [13, 3, 6, 7],  [15,14,12,16]]\n",
    "rotate(matrix)"
   ]
  },
  {
   "cell_type": "markdown",
   "metadata": {},
   "source": [
    "## 54. 螺旋矩阵\n",
    "数组遍历。需记录几个变量：螺旋的方向、螺旋的上、下、左、右边界。剩下的事情就是取数了。"
   ]
  },
  {
   "cell_type": "code",
   "execution_count": 1,
   "metadata": {
    "collapsed": false
   },
   "outputs": [
    {
     "data": {
      "text/plain": [
       "[1, 2, 3, 6, 9, 8, 7, 4, 5]"
      ]
     },
     "execution_count": 1,
     "metadata": {},
     "output_type": "execute_result"
    }
   ],
   "source": [
    "# beat 59%\n",
    "def spiralOrder(matrix):\n",
    "    \"\"\"\n",
    "    :type matrix: List[List[int]]\n",
    "    :rtype: List[int]\n",
    "    \"\"\"\n",
    "\n",
    "    if not matrix:\n",
    "        return []\n",
    "    # 定义遍历的边界\n",
    "    left = 0\n",
    "    right = len(matrix[0]) - 1\n",
    "    top = 0\n",
    "    bottom = len(matrix) - 1\n",
    "\n",
    "    # 定义螺旋方向，0~3分别代表：右、下、左、上\n",
    "    orient = 0\n",
    "    # 定义返回的list\n",
    "    ret_list = []\n",
    "\n",
    "    while right >= left and bottom >= top:\n",
    "        # 向右遍历\n",
    "        if orient == 0:\n",
    "            list_to_append = matrix[top][left:right+1]\n",
    "            top += 1\n",
    "        if orient == 1:\n",
    "            list_to_append = [matrix[i][right] for i in range(top,bottom+1,1)]\n",
    "            right -= 1\n",
    "        if orient == 2:\n",
    "            if left == 0:\n",
    "                list_to_append = matrix[bottom][right::-1]\n",
    "            else:\n",
    "                list_to_append = matrix[bottom][right:left-1:-1]\n",
    "            bottom -= 1\n",
    "        if orient == 3:\n",
    "            list_to_append = [matrix[i][left] for i in range(bottom,top-1,-1)]\n",
    "            left += 1\n",
    "        orient = (orient + 1) % 4 #调整螺旋遍历方向\n",
    "        ret_list += list_to_append\n",
    "    return ret_list\n",
    "spiralOrder([[1,2,3],[4,5,6],[7,8,9]])"
   ]
  },
  {
   "cell_type": "markdown",
   "metadata": {},
   "source": [
    "## 55. 跳跃游戏\n",
    "\n",
    "* 方案一\n",
    "    - 一开始思路比较复杂，考虑的是从头到尾遍历。并采用一个字典记录可以到达的位置。\n",
    "* 方案二\n",
    "    - 再深入思考一下发现，记录可达位置的字典完全可以省略。只需要记录可达位置的上限就行。因为只要知道上限，证明当前指针到上限的位置都是可达的。"
   ]
  },
  {
   "cell_type": "code",
   "execution_count": 24,
   "metadata": {
    "collapsed": false,
    "scrolled": true
   },
   "outputs": [
    {
     "name": "stdout",
     "output_type": "stream",
     "text": [
      "{1: True, 2: True, 3: True, 4: True, 5: True, 6: True, 7: True, 8: True, 9: True, 10: True, 11: True}\n",
      "True\n"
     ]
    }
   ],
   "source": [
    "# beat 41%\n",
    "# 方案一\n",
    "def canJump(nums):\n",
    "    \"\"\"\n",
    "    :type nums: List[int]\n",
    "    :rtype: bool\n",
    "    \"\"\"\n",
    "    if len(nums) <= 1:\n",
    "        return True\n",
    "    \n",
    "    # 先取第一个元素，并记录第一个元素可以到达的位置\n",
    "    ele = nums[0]\n",
    "    destin = {}  #这里用字典方式，可以减少查重的次数\n",
    "    for i in range(1,ele+1):\n",
    "        destin[i] = True\n",
    "    max_des = ele #记录最远可以去到的地方\n",
    "    \n",
    "    #遍历数组每个元素，并拓展可达的范围\n",
    "    for i in range(1,len(nums)-1):\n",
    "        ele = nums[i]\n",
    "        if i in destin:\n",
    "            for j in range(max_des+1, i+ele+1):\n",
    "                destin[j] = True\n",
    "            max_des = i+ele\n",
    "    return len(nums)-1 in destin\n",
    "print(canJump([5,9,3,2,1,0,2,3,3,1,0,0]))"
   ]
  },
  {
   "cell_type": "code",
   "execution_count": 29,
   "metadata": {
    "collapsed": false
   },
   "outputs": [
    {
     "name": "stdout",
     "output_type": "stream",
     "text": [
      "False\n"
     ]
    }
   ],
   "source": [
    "# beat 90%\n",
    "# 方案二\n",
    "def canJump(nums):\n",
    "    \"\"\"\n",
    "    :type nums: List[int]\n",
    "    :rtype: bool\n",
    "    \"\"\"\n",
    "    if len(nums) <= 1:\n",
    "        return True\n",
    "    ele = nums[0]\n",
    "    max_des = ele\n",
    "    for i in range(1,len(nums)-1):\n",
    "        ele = nums[i]\n",
    "        if i + ele > max_des and max_des >= i:\n",
    "            max_des = i + ele\n",
    "    return max_des >= len(nums)-1\n",
    "print(canJump([0,2,3,1,1,4]))"
   ]
  },
  {
   "cell_type": "markdown",
   "metadata": {},
   "source": [
    "## 56. 合并区间\n",
    "\n",
    "1、对intervals按下限从小到大排列\n",
    "\n",
    "2、考虑两个数组能否合并的条件：第一个数组的上限大于等于第二个数组的下限。因此，只要循环对比当前数组的上限与下一个数组的下限，只要满足合并条件就更新当前数组的上限，更新原则为当前数组的上限等于max(当前数组上限， 下一个数组的上限)。\n",
    "\n",
    "3、对于不满足合并条件的情况，则将当前数组放入待返回的list中，并将下一个数组赋值给当前数组。\n",
    "\n",
    "**以下为调试代码，leetcode的代码见下一个cell**"
   ]
  },
  {
   "cell_type": "code",
   "execution_count": 34,
   "metadata": {
    "collapsed": false
   },
   "outputs": [
    {
     "data": {
      "text/plain": [
       "[[1, 6], [8, 10], [15, 18]]"
      ]
     },
     "execution_count": 34,
     "metadata": {},
     "output_type": "execute_result"
    }
   ],
   "source": [
    "def merge(intervals):\n",
    "    \"\"\"\n",
    "    :type intervals: List[Interval]\n",
    "    :rtype: List[Interval]\n",
    "    \"\"\"\n",
    "    if not intervals:\n",
    "        return []\n",
    "    if len(intervals) == 1:\n",
    "        return intervals\n",
    "    intervals.sort(key = lambda x:x[0])\n",
    "    temp = intervals[0]\n",
    "    ret_list = []\n",
    "    for j,ele in enumerate(intervals[1:]):\n",
    "        if temp[1] >= ele[0]:\n",
    "            temp[1] = max(temp[1], ele[1])\n",
    "        else:\n",
    "            ret_list.append(temp)\n",
    "            if j+1 <= len(intervals)-1:\n",
    "                temp = intervals[j+1]\n",
    "            else:\n",
    "                temp = []\n",
    "    if temp:\n",
    "        ret_list.append(temp)\n",
    "    return ret_list\n",
    "    \n",
    "merge([[1,3],[2,6],[8,10],[15,18]])"
   ]
  },
  {
   "cell_type": "code",
   "execution_count": null,
   "metadata": {
    "collapsed": true
   },
   "outputs": [],
   "source": [
    "# beat 81%\n",
    "# leetcode题目中，数组包含的元素不是list类型，而是Interval类。因此需调整代码。如下。\n",
    "def merge(intervals):\n",
    "    \"\"\"\n",
    "    :type intervals: List[Interval]\n",
    "    :rtype: List[Interval]\n",
    "    \"\"\"\n",
    "    if not intervals:\n",
    "        return []\n",
    "    if len(intervals) == 1:\n",
    "        return intervals\n",
    "    intervals.sort(key = lambda x:x.start)\n",
    "    temp = [intervals[0].start, intervals[0].end]\n",
    "    ret_list = []\n",
    "    for j,ele in enumerate(intervals[1:]):\n",
    "        if temp[1] >= ele.start:\n",
    "            temp[1] = max(ele.end,temp[1])\n",
    "        else:\n",
    "            ret_list.append(temp)\n",
    "            if j+1 <= len(intervals)-1:\n",
    "                temp = [intervals[j+1].start, intervals[j+1].end]\n",
    "            else:\n",
    "                temp = []\n",
    "    if temp:\n",
    "        ret_list.append(temp)\n",
    "    return ret_list"
   ]
  },
  {
   "cell_type": "markdown",
   "metadata": {},
   "source": [
    "## 59. 螺旋矩阵 II\n",
    "\n",
    "做法参考“54. 螺旋矩阵”。不同的地方在于这里是先生成待插入的序列，然后插入矩阵中。而54题的做法是读取矩阵。"
   ]
  },
  {
   "cell_type": "code",
   "execution_count": 14,
   "metadata": {
    "collapsed": false
   },
   "outputs": [
    {
     "name": "stdout",
     "output_type": "stream",
     "text": [
      "[[1, 2, 3, 4, 5, 6, 7, 8, 9, 10], [36, 37, 38, 39, 40, 41, 42, 43, 44, 11], [35, 64, 65, 66, 67, 68, 69, 70, 45, 12], [34, 63, 84, 85, 86, 87, 88, 71, 46, 13], [33, 62, 83, 96, 97, 98, 89, 72, 47, 14], [32, 61, 82, 95, 100, 99, 90, 73, 48, 15], [31, 60, 81, 94, 93, 92, 91, 74, 49, 16], [30, 59, 80, 79, 78, 77, 76, 75, 50, 17], [29, 58, 57, 56, 55, 54, 53, 52, 51, 18], [28, 27, 26, 25, 24, 23, 22, 21, 20, 19]]\n"
     ]
    }
   ],
   "source": [
    "# beat 64%\n",
    "def generateMatrix(n):\n",
    "    \"\"\"\n",
    "    :type n: int\n",
    "    :rtype: List[List[int]]\n",
    "    \"\"\"\n",
    "\n",
    "    if n==0:\n",
    "        return []\n",
    "    # 定义遍历的边界\n",
    "    left = 0\n",
    "    right = n - 1\n",
    "    top = 0\n",
    "    bottom = n - 1\n",
    "\n",
    "    # 定义螺旋方向，0~3分别代表：右、下、左、上\n",
    "    orient = 0\n",
    "    # 定义返回的list\n",
    "    list_to_be_insert = list(range(1,n**2+1))\n",
    "    start = 0\n",
    "    matrix =  [[i for i in range(n)] for j in range(n)]\n",
    "    while start < n**2:\n",
    "        # 向右遍历\n",
    "        if orient == 0:\n",
    "            matrix[top][left:right+1] = list_to_be_insert[start:start+right-left+1]\n",
    "            top += 1\n",
    "            start += right-left+1\n",
    "        #向下遍历\n",
    "        if orient == 1:\n",
    "            for i in range(top,bottom+1,1):\n",
    "                #print(i,start,list_to_be_insert,matrix)\n",
    "                matrix[i][right] = list_to_be_insert[start]\n",
    "                start += 1\n",
    "            right -= 1\n",
    "        #向左遍历\n",
    "        if orient == 2:\n",
    "            if left == 0:\n",
    "                matrix[bottom][right::-1] = list_to_be_insert[start:start+right-left+1]\n",
    "            else:\n",
    "                matrix[bottom][right:left-1:-1] = list_to_be_insert[start:start+right-left+1]\n",
    "            start += right-left+1\n",
    "            bottom -= 1\n",
    "        #向上遍历\n",
    "        if orient == 3:\n",
    "            for i in range(bottom,top-1,-1):\n",
    "                matrix[i][left] = list_to_be_insert[start]\n",
    "                start += 1\n",
    "            left += 1\n",
    "        orient = (orient + 1) % 4 #调整螺旋遍历方向\n",
    "    return matrix\n",
    "print(generateMatrix(10))"
   ]
  },
  {
   "cell_type": "markdown",
   "metadata": {},
   "source": [
    "## 62. 不同路径\n",
    "\n",
    "采用函数迭代的方式。假设每次跳跃都有两种可能：向右或向下，则可以将可选路径数量分解为：向右跳之后的可选路径数+向下跳之后的可选路径数。\n",
    "函数迭代的停止条件是：当m=1或n=1时，此时只有1条可选路径。\n",
    "\n",
    "- 方案一一开始只是简单的函数迭代，提交后超时了。\n",
    "- 方案二在方案一的基础上做了一点小小的改进，新建一个record矩阵，记录之前走过的地方的可能路径数，以便于后面重复使用。"
   ]
  },
  {
   "cell_type": "code",
   "execution_count": null,
   "metadata": {
    "collapsed": true
   },
   "outputs": [],
   "source": [
    "# can't pass\n",
    "#方案一\n",
    "def uniquePaths(m, n):\n",
    "    \"\"\"\n",
    "    :type m: int\n",
    "    :type n: int\n",
    "    :rtype: int\n",
    "    \"\"\"\n",
    "\n",
    "\n",
    "    def caculate_step_decomposite(m,n):\n",
    "        if m == 1:\n",
    "            return 1\n",
    "        if n == 1:\n",
    "            return 1\n",
    "        else:\n",
    "            return caculate_step_decomposite(m-1,n) + caculate_step_decomposite(m,n-1)\n",
    "    return caculate_step_decomposite(m,n)"
   ]
  },
  {
   "cell_type": "code",
   "execution_count": 15,
   "metadata": {
    "collapsed": false
   },
   "outputs": [
    {
     "data": {
      "text/plain": [
       "6"
      ]
     },
     "execution_count": 15,
     "metadata": {},
     "output_type": "execute_result"
    }
   ],
   "source": [
    "# beat 37%\n",
    "# 方案二\n",
    "def uniquePaths(m, n):\n",
    "    \"\"\"\n",
    "    :type m: int\n",
    "    :type n: int\n",
    "    :rtype: int\n",
    "    \"\"\"\n",
    "    \n",
    "    record = [[ 0 for i in range(n+1)] for j in range(m+1)]\n",
    "    def caculate_step_decomposite(m,n):\n",
    "        #print(m,n, record)\n",
    "        if m == 1:\n",
    "            return 1\n",
    "        if n == 1:\n",
    "            return 1\n",
    "        else:\n",
    "            left = record[m-1][n] if record[m-1][n] != 0 else caculate_step_decomposite(m-1,n)\n",
    "            right = record[m][n-1] if record[m][n-1] != 0 else caculate_step_decomposite(m,n-1)\n",
    "            record[m-1][n] = left\n",
    "            record[m][n-1] = right\n",
    "            return left + right\n",
    "    return caculate_step_decomposite(m,n)\n",
    "\n",
    "uniquePaths(3,3)"
   ]
  },
  {
   "cell_type": "markdown",
   "metadata": {},
   "source": [
    "## 63. 不同路径 II\n",
    "\n",
    "- 方案一 沿用“62. 不同路径”的方案二，针对阻挡部分稍作修改：在考虑向右和向下迭代时，判断是否存在阻挡，是的话就放弃该方向迭代。但发现提交后超时。\n",
    "- 方案二 换了一个思路，把从前往后迭代改成从后往前迭代。"
   ]
  },
  {
   "cell_type": "code",
   "execution_count": 16,
   "metadata": {
    "collapsed": false
   },
   "outputs": [
    {
     "name": "stdout",
     "output_type": "stream",
     "text": [
      "2\n"
     ]
    }
   ],
   "source": [
    "# can't pass\n",
    "# 方案一\n",
    "def uniquePathsWithObstacles(obstacleGrid):\n",
    "    \"\"\"\n",
    "    :type obstacleGrid: List[List[int]]\n",
    "    :rtype: int\n",
    "    \"\"\"\n",
    "    \n",
    "    \n",
    "    if not obstacleGrid:\n",
    "        return 0\n",
    "    if obstacleGrid == [[0]]:\n",
    "        return 1\n",
    "    col = len(obstacleGrid[0])-1\n",
    "    row = len(obstacleGrid)-1\n",
    "    if obstacleGrid[0][0] == 1 or obstacleGrid[row][col] == 1:\n",
    "        return 0\n",
    "\n",
    "    #print(col,row)\n",
    "    record = [[ 0 for i in range(col+2)] for j in range(row+2)]\n",
    "    def caculate_step_decomposite(n,m):\n",
    "        #print(m,n, record)\n",
    "        if m == col and n==row-1:\n",
    "            return 1\n",
    "        if m == col-1 and n==row:\n",
    "            return 1\n",
    "        else:\n",
    "            if record[n][m+1] != 0:\n",
    "                left = record[n][m+1]\n",
    "            else:\n",
    "                if m < col:\n",
    "                    if obstacleGrid[n][m+1] != 1:\n",
    "                        left = caculate_step_decomposite(n, m+1)\n",
    "                        record[n][m+1] = left\n",
    "                    else:\n",
    "                        left = 0\n",
    "                else:\n",
    "                    left = 0\n",
    "\n",
    "            if record[n+1][m] != 0:\n",
    "                right = record[n+1][m]\n",
    "            else:\n",
    "                if n < row:\n",
    "                    if obstacleGrid[n+1][m] != 1:\n",
    "                        right = caculate_step_decomposite(n+1, m)\n",
    "                        record[n+1][m] = right\n",
    "                    else:\n",
    "                        right = 0\n",
    "                else:\n",
    "                    right = 0\n",
    "            #print(n,m,left,right)\n",
    "            return left + right\n",
    "    return caculate_step_decomposite(0,0)\n",
    "\n",
    "print(uniquePathsWithObstacles([[0,0,0],[0,1,0],[0,0,0]]))"
   ]
  },
  {
   "cell_type": "code",
   "execution_count": 17,
   "metadata": {
    "collapsed": false
   },
   "outputs": [
    {
     "name": "stdout",
     "output_type": "stream",
     "text": [
      "2\n"
     ]
    }
   ],
   "source": [
    "# beat 66%\n",
    "# 方案二\n",
    "def uniquePathsWithObstacles(obstacleGrid):\n",
    "    \"\"\"\n",
    "    :type obstacleGrid: List[List[int]]\n",
    "    :rtype: int\n",
    "    \"\"\"\n",
    "    \n",
    "    if not obstacleGrid:\n",
    "        return 0\n",
    "    if obstacleGrid == [[0]]:\n",
    "        return 1\n",
    "    col = len(obstacleGrid[0])-1\n",
    "    row = len(obstacleGrid)-1\n",
    "    if obstacleGrid[0][0] == 1 or obstacleGrid[row][col] == 1:\n",
    "        return 0\n",
    "    # record矩阵，用来缓存当前单元格到达目的地的可选路径数量。初始化为-1\n",
    "    record = [[ -1 for i in range(col+2)] for j in range(row+2)]\n",
    "    \n",
    "    # 初始化record矩阵的最后一行，如果没有阻挡，那么最后一行的可选路径都是1，如果中间存在阻挡，则从阻挡往前的数可选路径都是0\n",
    "    switch = 0\n",
    "    for i in range(col-1, -1, -1):\n",
    "        switch += obstacleGrid[row][i]\n",
    "        temp = min(1,switch)\n",
    "        record[row][i] = 1 - temp\n",
    "    # 初始化record矩阵的最后一列，如果没有阻挡，那么最后一列的可选路径都是1，如果中间存在阻挡，则从阻挡往前的数可选路径都是0\n",
    "    switch = 0\n",
    "    for i in range(row-1, -1, -1):\n",
    "        switch += obstacleGrid[i][col]\n",
    "        temp = min(1,switch)\n",
    "        record[i][col] = 1 - temp\n",
    "    \n",
    "    # 从后往前迭代，每一个单元格到目的地的可选路径等于右边单元格和下边单元格的可选路径之和。又因为右边和下边单元格可选路径已知，所以计算速度较快。\n",
    "    for i in range(row-1, -1, -1):\n",
    "        for j in range(col-1, -1, -1):\n",
    "            if obstacleGrid[i][j] == 1:\n",
    "                record[i][j] = 0\n",
    "            else:\n",
    "                record[i][j] = record[i+1][j] + record[i][j+1]\n",
    "    return record[0][0]\n",
    "\n",
    "print(uniquePathsWithObstacles([[0,0,0],[0,1,0],[0,0,0]]))"
   ]
  },
  {
   "cell_type": "markdown",
   "metadata": {},
   "source": [
    "## 64. 最小路径和\n",
    "思路和上一题类似"
   ]
  },
  {
   "cell_type": "code",
   "execution_count": 19,
   "metadata": {
    "collapsed": false
   },
   "outputs": [
    {
     "name": "stdout",
     "output_type": "stream",
     "text": [
      "7\n"
     ]
    }
   ],
   "source": [
    "# beat 36%\n",
    "def minPathSum(grid):\n",
    "    \"\"\"\n",
    "    :type grid: List[List[int]]\n",
    "    :rtype: int\n",
    "    \"\"\"\n",
    "    if not grid:\n",
    "        return 0\n",
    "    col = len(grid[0])-1\n",
    "    row = len(grid)-1\n",
    "\n",
    "    record = [[-1 for i in range(col+1)] for j in range(row+1)]\n",
    "    \n",
    "    sum_ = 0\n",
    "    for i in range(col, -1, -1):\n",
    "        sum_ += grid[row][i]\n",
    "        record[row][i] = sum_\n",
    "    sum_ = 0\n",
    "    for i in range(row, -1, -1):\n",
    "        sum_ += grid[i][col]\n",
    "        record[i][col] = sum_\n",
    "    \n",
    "    for i in range(row-1, -1, -1):\n",
    "        for j in range(col-1, -1, -1):\n",
    "            record[i][j] = grid[i][j] + min(record[i+1][j], record[i][j+1])\n",
    "    return record[0][0]\n",
    "\n",
    "print(minPathSum([ [1,3,1],  [1,5,1],  [4,2,1]]))"
   ]
  },
  {
   "cell_type": "markdown",
   "metadata": {},
   "source": [
    "## 73. 矩阵置零\n",
    "\n",
    "O(C)复杂度的方法没有想出来，参考了：[这篇博客的方法](https://blog.csdn.net/MebiuW/article/details/51440508)"
   ]
  },
  {
   "cell_type": "code",
   "execution_count": 2,
   "metadata": {
    "collapsed": false
   },
   "outputs": [
    {
     "name": "stdout",
     "output_type": "stream",
     "text": [
      "[[0, 1, 2, 0], [3, 4, 5, 2], [1, 3, 1, 5]]\n",
      "[[0, 1, 2, 0], [3, 4, 5, 2], [1, 3, 1, 5]]\n",
      "[[0, 1, 2, 0], [3, 4, 5, 0], [1, 3, 1, 0]]\n",
      "[[0, 0, 0, 0], [3, 4, 5, 0], [1, 3, 1, 0]]\n",
      "[[0, 0, 0, 0], [0, 4, 5, 0], [0, 3, 1, 0]]\n"
     ]
    }
   ],
   "source": [
    "# beat 66%\n",
    "def setZeroes(matrix):\n",
    "    \"\"\"\n",
    "    :type matrix: List[List[int]]\n",
    "    :rtype: void Do not return anything, modify matrix in-place instead.\n",
    "    \"\"\"\n",
    "\n",
    "    if not matrix:\n",
    "        return []\n",
    "    m = len(matrix)\n",
    "    n = len(matrix[0])\n",
    "\n",
    "    first_row_contain_0 = 0 in matrix[0]\n",
    "    first_col_contain_0 = 0 in [matrix[i][0] for i in range(0,m)]\n",
    "\n",
    "    for i in range(1,n):\n",
    "        for j in range(1,m):\n",
    "            if matrix[j][i] == 0:\n",
    "                matrix[0][i] = 0\n",
    "                matrix[j][0] = 0\n",
    "\n",
    "    for i in range(1,m):\n",
    "        if matrix[i][0] == 0:\n",
    "            for j in range(1,n):\n",
    "                matrix[i][j] = 0\n",
    "\n",
    "    for j in range(1,n):\n",
    "        if matrix[0][j] == 0:\n",
    "            for i in range(1,m):\n",
    "                matrix[i][j] = 0\n",
    "\n",
    "    if first_row_contain_0:\n",
    "        for j in range(0,n):\n",
    "            matrix[0][j] = 0\n",
    "\n",
    "    if first_col_contain_0:\n",
    "        for i in range(0,m):\n",
    "            matrix[i][0] = 0\n",
    "setZeroes([[0,1,2,0],[3,4,5,2],[1,3,1,5]])"
   ]
  },
  {
   "cell_type": "markdown",
   "metadata": {},
   "source": [
    "## 41. 缺失的第一个正数\n",
    "\n",
    "* 不考虑空间复杂度的情况下。考虑新建一个dict类型变量record。遍历数组，将出现的变量作为key值存入record中。然后从1开始递增，判断数字是否在record中，如否，则返回该数字。\n",
    "\n",
    "* 改进点：\n",
    "    - 假设输入数组的长度为n，那么，对于数组中小于等于0，大于n的数字，都可以不考虑。举个例子：对于数组nums = [1,3,2,8,4]，因为nums长度为5，在遍历过程中，对于8这个数字都可以不用存入record中，因为他已经超出我们接下来对于record的遍历范围了。当我们遍历完长度为5的数组之后，接下来只需要判断1、2、3、4、5是否在record中就行，假如都在，那么6肯定不在数组中（因为长度为5的数组放不下6个元素），所以完全没有必要去考虑8是否在record中。\n",
    "    - 对于数组中重复的数字，可以不考虑第2次出现的元素。\n",
    "    - 除了用dict类型存放记录，其实我们完全可以用list来存放。因为我们已经放弃了小于等于0和大于n的数了，所以我们可以用一个长度为n的list来存放元素出现的情况，用index来索引。举个例子：对于数组nums = [1,3,2,8,4]，我们可以生成一个长度为5的record数组[0,0,0,0,0]。在遍历数组的过程中，假如元素i出现在数组中，则将record[i-1]置为i；按这个方法，对数组nums遍历完成之后，record修改为[1,2,3,4,0]。这样判断record中首次出现的0的位置，就可以知道缺哪个元素了。假如都不为0，那么缺的整数为n+1，即6。\n",
    "\n",
    "* 考虑空间复杂度为$O(C)$的情况\n",
    "    - 前面我们用生成一个与nums等长的record数组，用来记录各个元素是否出现的情况。其实，我们完全可以在nums上面做操作。操作方法：遍历nums，对于每一个元素，假如元素ele所在的index+1不等于ele，并且0<ele<=n,那么将ele和nums[ele-1]进行对调（如果nums[ele-1]等于ele，即重复元素，那么停止对调），将ele放到“正确”的位置上。对于对调过来的元素，采用同样判断和对调的方法，直到满足停止对调条件（ele<=0,或者ele>n，或者nums[ele-1]==ele)。\n",
    "    - 如此遍历一遍之后，从头再次遍历nums，返回nums[i]!= i+1的元素：i+1\n",
    "    \n",
    "时间复杂度：最差情况，在遍历第一个元素时，就将nums中每个变量都做了一次对调，这时时间复杂度为$O(2n)$，遍历完数组之后，最差情况为nums中所有元素都放在正确位置，时间复杂度为$O(n)$。因此，最差时间复杂度$O(3n)=O(n)$"
   ]
  },
  {
   "cell_type": "code",
   "execution_count": null,
   "metadata": {
    "collapsed": true
   },
   "outputs": [],
   "source": [
    "# beat 91%\n",
    "def firstMissingPositive(nums):\n",
    "    \"\"\"\n",
    "    :type nums: List[int]\n",
    "    :rtype: int\n",
    "    \"\"\"\n",
    "    if not nums:\n",
    "        return 1\n",
    "    n = len(nums)\n",
    "    for i in range(n):\n",
    "        ele = nums[i]\n",
    "        while ele != i+1 and 0<ele<=n and nums[ele-1] != ele:\n",
    "            temp = nums[ele-1]\n",
    "            nums[ele-1] = ele\n",
    "            nums[i] = temp\n",
    "            ele = temp\n",
    "    for i in range(n):\n",
    "        if nums[i] != i+1:\n",
    "            return i+1\n",
    "    return n+1"
   ]
  },
  {
   "cell_type": "markdown",
   "metadata": {},
   "source": [
    "## 75. 分类颜色\n",
    "\n",
    "以下为一趟扫描方法。但涉及多次置换，速度比扫描完重写数组的方法还慢一点。"
   ]
  },
  {
   "cell_type": "code",
   "execution_count": 4,
   "metadata": {
    "collapsed": false
   },
   "outputs": [
    {
     "name": "stdout",
     "output_type": "stream",
     "text": [
      "[0, 0, 2, 1, 1, 2]\n",
      "[0, 0, 2, 1, 1, 2]\n",
      "[0, 0, 2, 1, 1, 2]\n",
      "[0, 0, 2, 1, 1, 2]\n",
      "[0, 0, 1, 1, 2, 2]\n",
      "[0, 0, 1, 1, 2, 2]\n",
      "[0, 0, 1, 1, 2, 2]\n"
     ]
    }
   ],
   "source": [
    "# beat 20%\n",
    "def sortColors(nums):\n",
    "    \"\"\"\n",
    "    :type nums: List[int]\n",
    "    :rtype: void Do not return anything, modify nums in-place instead.\n",
    "    \"\"\"\n",
    "\n",
    "    n = len(nums)\n",
    "\n",
    "    pointer_0 = 0\n",
    "    pointer_2 = n-1\n",
    "    iterater = 0\n",
    "    while iterater <= pointer_2:\n",
    "        if nums[iterater] == 0:\n",
    "            if pointer_0 == iterater:\n",
    "                iterater += 1\n",
    "            else:\n",
    "                temp = nums[pointer_0]\n",
    "                nums[pointer_0] = nums[iterater]\n",
    "                nums[iterater] = temp\n",
    "                pointer_0 += 1\n",
    "        elif nums[iterater] == 2:\n",
    "            if pointer_2 == iterater:\n",
    "                iterater += 1\n",
    "            else:\n",
    "                temp = nums[pointer_2]\n",
    "                nums[pointer_2] = nums[iterater]\n",
    "                nums[iterater] = temp\n",
    "                pointer_2 -= 1\n",
    "        else:\n",
    "            iterater += 1\n",
    "        print(nums)\n",
    "            \n",
    "sortColors([2,0,2,1,1,0])"
   ]
  },
  {
   "cell_type": "markdown",
   "metadata": {},
   "source": [
    "## 79. 单词搜索\n",
    "\n",
    "方案一：采用递归调用的方式。需要新增一个矩阵记录已经走过的路径。方案提交后运行超时。\n",
    "\n",
    "方案二：考虑两个改进的地方。\n",
    "    - 不新增矩阵，在原矩阵上将走过的位置字母置为空或别的非字符串的值。减少每次调用时的深拷贝和浅拷贝时间。\n",
    "    - 将原本递归四个方向后的结果取或，改成串行递归调用，一旦返回True值即返回，无需遍历剩余的方向。"
   ]
  },
  {
   "cell_type": "code",
   "execution_count": 1,
   "metadata": {
    "collapsed": false
   },
   "outputs": [
    {
     "data": {
      "text/plain": [
       "False"
      ]
     },
     "execution_count": 1,
     "metadata": {},
     "output_type": "execute_result"
    }
   ],
   "source": [
    "# can't pass\n",
    "# 方案一\n",
    "def exist(board, word):\n",
    "    \"\"\"\n",
    "    :type board: List[List[str]]\n",
    "    :type word: str\n",
    "    :rtype: bool\n",
    "    \"\"\"\n",
    "\n",
    "    import copy\n",
    "    if not word:\n",
    "        return True\n",
    "\n",
    "    m = len(board)-1\n",
    "    n = len(board[0])-1\n",
    "\n",
    "    def is_next(i,j,sub_string,pre_record,pre_direction):\n",
    "        if not sub_string:\n",
    "            return True\n",
    "        if pre_record[i][j] != sub_string[0]:\n",
    "            return False\n",
    "        elif len(sub_string) == 1:\n",
    "            return True\n",
    "        else:\n",
    "            pre_record[i][j] = True\n",
    "            left = False if j==0 or pre_direction == 'left' else is_next(i,j-1,sub_string[1:],pre_record,'right')\n",
    "            right = False if j==n or pre_direction == 'right' else is_next(i,j+1,sub_string[1:],pre_record,'left')\n",
    "            above = False if i==0 or pre_direction == 'above' else is_next(i-1,j,sub_string[1:],pre_record,'under')\n",
    "            under = False if i==m or pre_direction == 'under' else is_next(i+1,j,sub_string[1:],pre_record,'above')\n",
    "            pre_record[i][j] = sub_string[0]\n",
    "            return left or right or above or under\n",
    "\n",
    "    for i in range(m+1):\n",
    "        for j in range(n+1):\n",
    "            if board[i][j] == word[0]:\n",
    "                ret_bool = is_next(i,j,word, copy.deepcopy(board), '')\n",
    "                if ret_bool:\n",
    "                    return True\n",
    "    return False\n",
    "\n",
    "exist([[\"a\",\"a\",\"a\",\"a\"],[\"a\",\"a\",\"a\",\"a\"],[\"a\",\"a\",\"a\",\"a\"]],\"aaaaaaaaaaaaa\")"
   ]
  },
  {
   "cell_type": "code",
   "execution_count": 9,
   "metadata": {
    "collapsed": false
   },
   "outputs": [
    {
     "data": {
      "text/plain": [
       "True"
      ]
     },
     "execution_count": 9,
     "metadata": {},
     "output_type": "execute_result"
    }
   ],
   "source": [
    "# beat 79%\n",
    "def exist(board, word):\n",
    "    \"\"\"\n",
    "    :type board: List[List[str]]\n",
    "    :type word: str\n",
    "    :rtype: bool\n",
    "    \"\"\"\n",
    "\n",
    "    if not word:\n",
    "        return True\n",
    "\n",
    "    m = len(board)-1\n",
    "    n = len(board[0])-1\n",
    "    l = len(word)\n",
    "\n",
    "    def is_next(i,j,idx,pre_direction):\n",
    "        if board[i][j] != word[idx]:\n",
    "            return False\n",
    "        elif idx == l-1:\n",
    "            return True\n",
    "        else:\n",
    "            board[i][j] = ''\n",
    "            if j != 0 and pre_direction != 'left':\n",
    "                if is_next(i,j-1,idx+1,'right'):\n",
    "                    return True\n",
    "            if j != n and pre_direction != 'right':\n",
    "                if is_next(i,j+1,idx+1,'left'):\n",
    "                    return True\n",
    "            if i != 0 and pre_direction != 'above':\n",
    "                if is_next(i-1,j,idx+1,'under'):\n",
    "                    return True\n",
    "            if i != m and pre_direction != 'under':\n",
    "                if is_next(i+1,j,idx+1,'above'):\n",
    "                    return True\n",
    "            board[i][j] = word[idx]\n",
    "            return False\n",
    "            #left = False if j==0 or pre_direction == 'left' else is_next(i,j-1,sub_string[1:],pre_record,'right')\n",
    "            #right = False if j==n or pre_direction == 'right' else is_next(i,j+1,sub_string[1:],pre_record,'left')\n",
    "            #above = False if i==0 or pre_direction == 'above' else is_next(i-1,j,sub_string[1:],pre_record,'under')\n",
    "            #under = False if i==m or pre_direction == 'under' else is_next(i+1,j,sub_string[1:],pre_record,'above')\n",
    "\n",
    "    for i in range(m+1):\n",
    "        for j in range(n+1):\n",
    "            if board[i][j] == word[0]:\n",
    "                ret_bool = is_next(i,j,0, '')\n",
    "                if ret_bool:\n",
    "                    return True\n",
    "    return False\n",
    "\n",
    "exist([[\"A\",\"B\",\"C\",\"E\"],[\"S\",\"F\",\"C\",\"S\"],[\"A\",\"D\",\"E\",\"E\"]],\"ABCCED\")"
   ]
  },
  {
   "cell_type": "markdown",
   "metadata": {},
   "source": [
    "## 90. 子集 II\n",
    "\n",
    "重点考虑重复元素的影响。\n",
    "- 先考虑没有重复元素的情况，我们采用背包方法获得所有子集。\n",
    "\n",
    "<img src=\"image\\array\\1.jpg\" style=\"margin:30px\">\n",
    "\n",
    "\n",
    "对于每一个元素，新增的子集是上一步迭代获得的子集与当前元素求得的并集。\n",
    "\n",
    "- 对于存在重复元素的情况，我们举个极端的例子：[1,1,1]\n",
    "\n",
    "<img src=\"image\\array\\2.jpg\"  style=\"margin:30px\"></img>\n",
    "\n",
    "我们发现，出现重复时，新增的子集仅仅是上一步新增的子集与当前元素求得的并集。那么解题的思路就出来了。假设当前子集的数量为n，如果新增的元素和上一个元素不同，那么新增子集的数量就是n。如果新增的元素和上一个元素第一次出现相同，那么新增的子集数量就是n/2，此时子集的数量变为3n/2；这种情况下，如果再新增的元素还重复，那么新增的子集数量还是n/2，即：3n/2/3，此时子集的数量变为2n = 4n/2；再往下推，如果再重复一次元素，新增n/2个子集，即4n/2/4，此时子集的数量变为5n/2。发现规律了：对于重复的元素，新增子集的数量等于原子集数量/重复次数。"
   ]
  },
  {
   "cell_type": "code",
   "execution_count": 2,
   "metadata": {
    "collapsed": false
   },
   "outputs": [
    {
     "name": "stdout",
     "output_type": "stream",
     "text": [
      "[[], [5], [5, 5], [5, 5, 5], [5, 5, 5, 5], [5, 5, 5, 5, 5]]\n"
     ]
    }
   ],
   "source": [
    "# beat 91%\n",
    "def subsetsWithDup(nums):\n",
    "    \"\"\"\n",
    "    :type nums: List[int]\n",
    "    :rtype: List[List[int]]\n",
    "    \"\"\"\n",
    "\n",
    "    if not nums:\n",
    "        return []\n",
    "    if len(nums) == 1:\n",
    "        return [[],nums]\n",
    "\n",
    "    nums.sort()\n",
    "    ret_list = [[],[nums[0]]]\n",
    "\n",
    "    repeat_times = 1\n",
    "    for i in range(1,len(nums)):\n",
    "        ele = nums[i]\n",
    "        if ele != nums[i-1]:\n",
    "            ret_list += [sub_list + [ele] for sub_list in ret_list]\n",
    "            repeat_times = 1\n",
    "        else:\n",
    "            repeat_times += 1\n",
    "            ret_list += [sub_list + [ele] for sub_list in ret_list[-len(ret_list)//repeat_times:]]\n",
    "    return ret_list\n",
    "\n",
    "print(subsetsWithDup([5,5,5,5,5]))"
   ]
  },
  {
   "cell_type": "markdown",
   "metadata": {},
   "source": [
    "## 380. 常数时间插入、删除和获取随机元素"
   ]
  },
  {
   "cell_type": "code",
   "execution_count": null,
   "metadata": {
    "collapsed": true
   },
   "outputs": [],
   "source": [
    "# beat 92%\n",
    "import random\n",
    "class RandomizedSet:\n",
    "\n",
    "    def __init__(self):\n",
    "        \"\"\"\n",
    "        Initialize your data structure here.\n",
    "        \"\"\"\n",
    "        self.dic_ = {}\n",
    "        self.list_ = []\n",
    "        self.len_ = 0\n",
    "\n",
    "    def insert(self, val):\n",
    "        \"\"\"\n",
    "        Inserts a value to the set. Returns true if the set did not already contain the specified element.\n",
    "        :type val: int\n",
    "        :rtype: bool\n",
    "        \"\"\"\n",
    "        if val not in self.dic_:\n",
    "            self.dic_[val] = self.len_\n",
    "            self.list_.append(val)\n",
    "            self.len_ += 1\n",
    "            return True\n",
    "        return False\n",
    "        \n",
    "\n",
    "    def remove(self, val):\n",
    "        \"\"\"\n",
    "        Removes a value from the set. Returns true if the set contained the specified element.\n",
    "        :type val: int\n",
    "        :rtype: bool\n",
    "        \"\"\"\n",
    "        if val not in self.dic_:\n",
    "            return False\n",
    "        else:\n",
    "            index = self.dic_[val]\n",
    "            self.dic_[self.list_[-1]] = index\n",
    "            self.list_[index] = self.list_[-1]\n",
    "            self.list_.pop(-1)\n",
    "            self.dic_.pop(val)\n",
    "            self.len_ -= 1\n",
    "            return True\n",
    "        \n",
    "\n",
    "    def getRandom(self):\n",
    "        \"\"\"\n",
    "        Get a random element from the set.\n",
    "        :rtype: int\n",
    "        \"\"\"\n",
    "        return random.choice(self.list_)"
   ]
  },
  {
   "cell_type": "markdown",
   "metadata": {},
   "source": [
    "## 442. 数组中重复的数据"
   ]
  },
  {
   "cell_type": "code",
   "execution_count": 3,
   "metadata": {
    "collapsed": false
   },
   "outputs": [
    {
     "data": {
      "text/plain": [
       "[1, 2, 3, 4, 3, 2, 7, 8]"
      ]
     },
     "execution_count": 3,
     "metadata": {},
     "output_type": "execute_result"
    }
   ],
   "source": [
    "# beat 57%\n",
    "def findDuplicates(nums):\n",
    "    \"\"\"\n",
    "    :type nums: List[int]\n",
    "    :rtype: List[int]\n",
    "    \"\"\"\n",
    "\n",
    "    for i in range(len(nums)):\n",
    "        while nums[i] != nums[nums[i]-1]:\n",
    "            temp = nums[i]\n",
    "            nums[i] = nums[nums[i]-1]\n",
    "            nums[temp-1] = temp\n",
    "nums = [4,3,2,7,8,2,3,1]\n",
    "findDuplicates(nums)\n",
    "nums"
   ]
  },
  {
   "cell_type": "markdown",
   "metadata": {},
   "source": [
    "## 495. 提莫攻击"
   ]
  },
  {
   "cell_type": "code",
   "execution_count": null,
   "metadata": {
    "collapsed": true
   },
   "outputs": [],
   "source": [
    "#beat 82%\n",
    "def findPoisonedDuration(timeSeries, duration):\n",
    "    \"\"\"\n",
    "    :type timeSeries: List[int]\n",
    "    :type duration: int\n",
    "    :rtype: int\n",
    "    \"\"\"\n",
    "    if not timeSeries:\n",
    "        return 0\n",
    "    if len(timeSeries) == 1:\n",
    "        return duration\n",
    "\n",
    "    total_time = 0\n",
    "    for i in range(1,len(timeSeries)):\n",
    "        span = timeSeries[i] - timeSeries[i-1]\n",
    "        if span > duration:\n",
    "            total_time += duration\n",
    "        else:\n",
    "            total_time += span\n",
    "    return total_time + duration\n"
   ]
  },
  {
   "cell_type": "markdown",
   "metadata": {},
   "source": [
    "## 560. 和为K的子数组\n",
    "\n",
    "方案一：遍历数组nums的所有元素ele，计算以元素结尾的所有子数组。这里采用变量last_sum，记录以ele前一个元素结尾的所有子数组的和。那么在考虑以ele结尾的子数组和时，只需要将last_sum所有元素都加上ele即可。算法复杂度为$O(N^2)$\n",
    "提交结果为运行超时。看来$O(N^2)$复杂度无法满足。\n",
    "\n",
    "方案二：改进点包括\n",
    "- 采用哈希表记录数组前n个元素和$S_n$\n",
    "- 对于任意下表从i到j的子数组，其和可以表示为$S_j-S_{i-1}$\n",
    "- 遍历以第i个元素开头的子数组，要求找到$S_j  j>=i$，满足$S_j-S_{i-1}=k$，即$S_j = S_{i-1}+k$。\n"
   ]
  },
  {
   "cell_type": "code",
   "execution_count": null,
   "metadata": {
    "collapsed": true
   },
   "outputs": [],
   "source": [
    "# can't pass\n",
    "# 方案一\n",
    "def subarraySum(nums, k):\n",
    "    \"\"\"\n",
    "    :type nums: List[int]\n",
    "    :type k: int\n",
    "    :rtype: int\n",
    "    \"\"\"\n",
    "\n",
    "    last_sum = []\n",
    "\n",
    "    ret_counter = 0\n",
    "    for ele in nums:\n",
    "        for i in range(0,len(last_sum)):\n",
    "            new_sum = last_sum[i] + ele\n",
    "            if new_sum == k:\n",
    "                ret_counter += 1\n",
    "            last_sum[i] = new_sum\n",
    "        if ele == k:\n",
    "            ret_counter += 1\n",
    "        last_sum.append(ele)\n",
    "    return ret_counter"
   ]
  },
  {
   "cell_type": "code",
   "execution_count": 66,
   "metadata": {
    "collapsed": false
   },
   "outputs": [
    {
     "data": {
      "text/plain": [
       "2"
      ]
     },
     "execution_count": 66,
     "metadata": {},
     "output_type": "execute_result"
    }
   ],
   "source": [
    "# beat 65%\n",
    "# 方案二\n",
    "def subarraySum(nums, k):\n",
    "    \"\"\"\n",
    "    :type nums: List[int]\n",
    "    :type k: int\n",
    "    :rtype: int\n",
    "    \"\"\"\n",
    "    \n",
    "    dict_index_2_sum = {}  #用于存放nums中前n个元素和的哈希表\n",
    "    dict_sum_2_index = {}  #和dict_index_2_sum相反，存放和作为哈希，index作为value的字典\n",
    "    \n",
    "    sub_list_sum = 0\n",
    "    for i in range(len(nums)):\n",
    "        sub_list_sum += nums[i]\n",
    "        dict_index_2_sum[i] = sub_list_sum\n",
    "        if sub_list_sum in dict_sum_2_index:\n",
    "            dict_sum_2_index[sub_list_sum].append(i)\n",
    "        else:\n",
    "            dict_sum_2_index[sub_list_sum] = [i]\n",
    "    \n",
    "    dict_index_2_sum[-1] = 0\n",
    "    counter = 0 #记录满足条件的子数组数量\n",
    "    #接下来遍历数组中的所有子数组\n",
    "    for i in range(len(nums)): #遍历以第i个元素打头的子数组\n",
    "        target = dict_index_2_sum[i-1] + k\n",
    "        if target in dict_sum_2_index:\n",
    "            for ele in dict_sum_2_index[target]:\n",
    "                if ele >= i:\n",
    "                    counter += 1\n",
    "    return counter\n",
    "\n",
    "\n",
    "subarraySum([-1,2,1],2)"
   ]
  },
  {
   "cell_type": "markdown",
   "metadata": {},
   "source": [
    "## 565. 数组嵌套"
   ]
  },
  {
   "cell_type": "code",
   "execution_count": null,
   "metadata": {
    "collapsed": true
   },
   "outputs": [],
   "source": [
    "def arrayNesting(nums):\n",
    "    \"\"\"\n",
    "    :type nums: List[int]\n",
    "    :rtype: int\n",
    "    \"\"\"\n",
    "    n = len(nums)\n",
    "\n",
    "    max_len = 0\n",
    "    for i in range(n):\n",
    "        counter = 0\n",
    "        pointer = i\n",
    "        while nums[pointer] < n:\n",
    "            counter += 1\n",
    "            temp = nums[pointer]\n",
    "            nums[pointer] = n\n",
    "            pointer = temp\n",
    "\n",
    "        if counter > max_len:\n",
    "            max_len = counter\n",
    "    return max_len"
   ]
  },
  {
   "cell_type": "markdown",
   "metadata": {},
   "source": [
    "## 621. 任务调度器"
   ]
  },
  {
   "cell_type": "code",
   "execution_count": 76,
   "metadata": {
    "collapsed": false
   },
   "outputs": [
    {
     "name": "stdout",
     "output_type": "stream",
     "text": [
      "[3, 3]\n",
      "[2, 2]\n",
      "[1, 1]\n"
     ]
    },
    {
     "data": {
      "text/plain": [
       "8"
      ]
     },
     "execution_count": 76,
     "metadata": {},
     "output_type": "execute_result"
    }
   ],
   "source": [
    "def leastInterval(tasks, n):\n",
    "    \"\"\"\n",
    "    :type tasks: List[str]\n",
    "    :type n: int\n",
    "    :rtype: int\n",
    "    \"\"\"\n",
    "\n",
    "    list_task_count = [0]*26 #任务个数统计\n",
    "    for ele in tasks:\n",
    "        list_task_count[ord(ele)-65] += 1\n",
    "    \n",
    "    for i in range(len(list_task_count)-1,-1,-1):\n",
    "        if list_task_count[i] == 0:\n",
    "            list_task_count.pop(i)\n",
    "    list_task_count.sort(reverse=True)\n",
    "    \n",
    "    \n",
    "    total = 0\n",
    "    slot_counter = 0\n",
    "    while list_task_count:\n",
    "        print(list_task_count)\n",
    "        task_len = len(list_task_count)\n",
    "        if task_len <= n+1:\n",
    "            for i in range(task_len-1,-1,-1):\n",
    "                list_task_count[i] -= 1\n",
    "                if list_task_count[i] == 0:\n",
    "                    list_task_count.pop(i)\n",
    "            slot_counter = task_len\n",
    "        else:\n",
    "            for i in range(n,-1,-1):\n",
    "                list_task_count[i] -= 1\n",
    "                if list_task_count[i] == 0:\n",
    "                    list_task_count.pop(i)\n",
    "            slot_counter = n+1\n",
    "            list_task_count.sort(reverse=True)\n",
    "            \n",
    "        total = total + n +1\n",
    "\n",
    "    if n+1 > slot_counter:\n",
    "        total -= n+1-slot_counter\n",
    "    return total\n",
    "\n",
    "leastInterval([\"A\",\"A\",\"A\",\"B\",\"B\",\"B\"],2)"
   ]
  },
  {
   "cell_type": "markdown",
   "metadata": {},
   "source": [
    "## 611. 有效三角形的个数"
   ]
  },
  {
   "cell_type": "code",
   "execution_count": 90,
   "metadata": {
    "collapsed": false
   },
   "outputs": [
    {
     "data": {
      "text/plain": [
       "7"
      ]
     },
     "execution_count": 90,
     "metadata": {},
     "output_type": "execute_result"
    }
   ],
   "source": [
    "#beat 4%\n",
    "def triangleNumber(nums):\n",
    "    \"\"\"\n",
    "    :type nums: List[int]\n",
    "    :rtype: int\n",
    "    \"\"\"\n",
    "    \n",
    "    n = len(nums)\n",
    "    if n <=2:\n",
    "        return 0\n",
    "    nums.sort()\n",
    "    counter = 0\n",
    "    # 确定两条边a和b，index分别为i和j\n",
    "    for i in range(n-2):\n",
    "        pointer_left = i + 2\n",
    "        pointer_right = i + 2\n",
    "        for j in range(i+1,n-1):\n",
    "            pointer_left = max(pointer_left, j+1)\n",
    "            pointer_right = max(pointer_right, j+1)\n",
    "            lower_bound = nums[j] - nums[i]\n",
    "            upper_bound = nums[j] + nums[i]\n",
    "            \n",
    "            # 判断第三条边c，满足两个条件，a+b>c,a-b<c\n",
    "            while pointer_left > j and pointer_right < n and pointer_left <= pointer_right:\n",
    "                if nums[pointer_left] >= lower_bound and nums[pointer_right] >= upper_bound:\n",
    "                    break\n",
    "                if nums[pointer_left] < lower_bound:\n",
    "                    pointer_left += 1\n",
    "                if nums[pointer_right] < upper_bound:\n",
    "                    pointer_right += 1\n",
    "            #print(i,j,pointer_left, pointer_right)\n",
    "            counter += pointer_right - pointer_left\n",
    "    return counter\n",
    "\n",
    "triangleNumber([1,2,3,4,5,6])"
   ]
  },
  {
   "cell_type": "code",
   "execution_count": 61,
   "metadata": {
    "collapsed": false
   },
   "outputs": [
    {
     "name": "stdout",
     "output_type": "stream",
     "text": [
      "[14, 0, 0, 0, 1, 0, 0, 8, 64, 1, 8, 159]\n"
     ]
    },
    {
     "data": {
      "text/plain": [
       "'0x70ae'"
      ]
     },
     "execution_count": 61,
     "metadata": {},
     "output_type": "execute_result"
    }
   ],
   "source": [
    "aaa = '0e000000010000084001089f'\n",
    "asc = []\n",
    "for i in range(0,len(aaa),2):\n",
    "    temp = aaa[i:i+2]\n",
    "    temp2 = int(temp,16)\n",
    "    asc.append(temp2)\n",
    "print(asc)\n",
    "asc = bytearray(asc)\n",
    "crc16 = crcmod.predefined.Crc('modbus')\n",
    "crc16.update(asc)\n",
    "hex(crc16.crcValue)"
   ]
  },
  {
   "cell_type": "code",
   "execution_count": null,
   "metadata": {
    "collapsed": true
   },
   "outputs": [],
   "source": []
  }
 ],
 "metadata": {
  "kernelspec": {
   "display_name": "Python 3",
   "language": "python",
   "name": "python3"
  },
  "language_info": {
   "codemirror_mode": {
    "name": "ipython",
    "version": 3
   },
   "file_extension": ".py",
   "mimetype": "text/x-python",
   "name": "python",
   "nbconvert_exporter": "python",
   "pygments_lexer": "ipython3",
   "version": "3.6.0"
  }
 },
 "nbformat": 4,
 "nbformat_minor": 2
}
