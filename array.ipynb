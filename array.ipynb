{
 "cells": [
  {
   "cell_type": "markdown",
   "metadata": {},
   "source": [
    "## 存在重复值II"
   ]
  },
  {
   "cell_type": "code",
   "execution_count": 10,
   "metadata": {
    "collapsed": false
   },
   "outputs": [],
   "source": [
    "def containsNearbyDuplicate(nums, k):\n",
    "        \"\"\"\n",
    "        :type nums: List[int]\n",
    "        :type k: int\n",
    "        :rtype: bool\n",
    "        \"\"\"\n",
    "\n",
    "        dic_run={}\n",
    "        for i,ele in enumerate(nums):\n",
    "            if ele in dic_run and i-dic_run[ele]<=k:\n",
    "                return True\n",
    "            dic_run[ele] = i\n",
    "        return False"
   ]
  },
  {
   "cell_type": "code",
   "execution_count": 11,
   "metadata": {
    "collapsed": false,
    "scrolled": true
   },
   "outputs": [
    {
     "data": {
      "text/plain": [
       "False"
      ]
     },
     "execution_count": 11,
     "metadata": {},
     "output_type": "execute_result"
    }
   ],
   "source": [
    "containsNearbyDuplicate([5,25,75], 100)"
   ]
  },
  {
   "cell_type": "markdown",
   "metadata": {
    "collapsed": true
   },
   "source": [
    "## 从前序与中序遍历序列构造二叉树"
   ]
  },
  {
   "cell_type": "code",
   "execution_count": 9,
   "metadata": {
    "collapsed": false
   },
   "outputs": [],
   "source": [
    "def buildTree( preorder, inorder):\n",
    "    \"\"\"\n",
    "    :type preorder: List[int]\n",
    "    :type inorder: List[int]\n",
    "    :rtype: TreeNode\n",
    "    \"\"\"\n",
    "    if not preorder:\n",
    "            return None\n",
    "    def generate_node(x0,xn,y0,yn):\n",
    "        if x0 == xn:\n",
    "            return None\n",
    "        val_0 = preorder[x0]\n",
    "        node = TreeNode(val_0)\n",
    "        inorder_index_val_0 = inorder.index(val_0)\n",
    "        length_left = inorder_index_val_0 - y0\n",
    "        length_right = yn - inorder_index_val_0\n",
    "        if length_left:\n",
    "            node.left = generate_node(x0+1,x0+1+length_left,y0,y0+length_left)\n",
    "        else:\n",
    "            node.left = None\n",
    "        if length_right:\n",
    "            node.right = generate_node(x0+1+length_left,xn,y0+length_left+1,yn)\n",
    "        else:\n",
    "            node.right = None\n",
    "        return node\n",
    "    return generate_node(0,len(preorder),0,len(inorder))"
   ]
  },
  {
   "cell_type": "markdown",
   "metadata": {},
   "source": [
    "## 图片平滑器"
   ]
  },
  {
   "cell_type": "code",
   "execution_count": 4,
   "metadata": {
    "collapsed": false
   },
   "outputs": [
    {
     "data": {
      "text/plain": [
       "[[4, 4, 5], [5, 6, 6], [8, 9, 9], [11, 12, 12], [13, 13, 14]]"
      ]
     },
     "execution_count": 4,
     "metadata": {},
     "output_type": "execute_result"
    }
   ],
   "source": [
    "import math\n",
    "def imageSmoother( M):\n",
    "    \"\"\"\n",
    "    :type M: List[List[int]]\n",
    "    :rtype: List[List[int]]\n",
    "    \"\"\"\n",
    "    width = len(M)\n",
    "    height = len(M[0])\n",
    "    ret_matrix = []\n",
    "    for i in range(len(M)):\n",
    "        temp = []\n",
    "        for j in range(len(M[0])):\n",
    "            aaa = [M[k][l] for k in range(i-1,i+2) for l in range(j-1,j+2) if k>=0 and k<width and l>=0 and l<height]\n",
    "            #print(aaa)\n",
    "            temp.append(math.floor(sum(aaa)/len(aaa)))\n",
    "        ret_matrix.append(temp)\n",
    "    return ret_matrix\n",
    "\n",
    "imageSmoother([[2,3,4],[5,6,7],[8,9,10],[11,12,13],[14,15,16]])"
   ]
  },
  {
   "cell_type": "markdown",
   "metadata": {},
   "source": [
    "## 766. 托普利茨矩阵"
   ]
  },
  {
   "cell_type": "code",
   "execution_count": 6,
   "metadata": {
    "collapsed": false
   },
   "outputs": [
    {
     "data": {
      "text/plain": [
       "False"
      ]
     },
     "execution_count": 6,
     "metadata": {},
     "output_type": "execute_result"
    }
   ],
   "source": [
    "def isToeplitzMatrix(matrix):\n",
    "        \"\"\"\n",
    "        :type matrix: List[List[int]]\n",
    "        :rtype: bool\n",
    "        \"\"\"\n",
    "        \n",
    "        height = len(matrix)\n",
    "        width = len(matrix[0])\n",
    "        for i in range(width):\n",
    "            aaa = matrix[0][i]\n",
    "            for j in range(i+1, min(width, i+height)):\n",
    "                if matrix[j-i][j] != aaa:\n",
    "                    return False\n",
    "        for i in range(1,height):\n",
    "            aaa=matrix[i][0]\n",
    "            for j in range(i+1, min(height,i+width)):\n",
    "                if matrix[j][j-i] != aaa:\n",
    "                    return False\n",
    "        return True\n",
    "isToeplitzMatrix([[1,2],[2,2]])"
   ]
  },
  {
   "cell_type": "markdown",
   "metadata": {},
   "source": [
    "## 两个排序数组的中位数\n",
    "\n",
    "**方案一**\n",
    "\n",
    "合并数组后排序，并取中位数。该算法最简单，时间复杂度为O((M+N)log(M+N))  ——>python sort函数采用Timesort算法，最好情况下时间复杂度为O(N)，平均情况和最差情况时间复杂度为O(Nlog(N))\n",
    "\n",
    "**方案二**\n",
    "\n",
    "遍历两个数组的每个元素，按大小顺序合并。算法复杂度O(M+N)\n",
    "\n",
    "**方案三**\n",
    "\n",
    "思路来源于：https://blog.csdn.net/hk2291976/article/details/51107778\n",
    "\n",
    "测试未通过。\n",
    "\n",
    "**方案四**\n",
    "\n",
    "采用二分法。\n",
    "\n",
    "如果数组a的中位数小于数组b的中位数，那么整体的中位数只可能出现在a的右区间加上b的左区间之中； \n",
    "\n",
    "如果数组a的中位数大于等于数组b的中位数，那么整体的中位数只可能出现在a的左区间加上b的右区间之中。 \n",
    "\n",
    "关键就是利用分治的思想逐渐缩小a的区间和b的区间来找到中位数。\n",
    "\n",
    "时间复杂度为O(log(M+N))\n"
   ]
  },
  {
   "cell_type": "markdown",
   "metadata": {},
   "source": [
    "**float('inf') 用于表示python中最大值，最小值用float('-inf')表示。**"
   ]
  },
  {
   "cell_type": "code",
   "execution_count": 5,
   "metadata": {
    "collapsed": true
   },
   "outputs": [],
   "source": [
    "def findMedianSortedArrays_1(nums1, nums2):\n",
    "    \"\"\"\n",
    "    :type nums1: List[int]\n",
    "    :type nums2: List[int]\n",
    "    :rtype: float\n",
    "    \"\"\"\n",
    "    # 方案一\n",
    "    aaa = sorted(nums1+nums2)\n",
    "    return (aaa[math.floor((len(aaa)-1)/2)] + aaa[math.ceil((len(aaa)-1)/2)])/2"
   ]
  },
  {
   "cell_type": "code",
   "execution_count": 6,
   "metadata": {
    "collapsed": true
   },
   "outputs": [],
   "source": [
    "def findMedianSortedArrays_2(nums1, nums2):\n",
    "    \"\"\"\n",
    "    :type nums1: List[int]\n",
    "    :type nums2: List[int]\n",
    "    :rtype: float\n",
    "    \"\"\"\n",
    "\n",
    "    # 方案二\n",
    "    aaa = []\n",
    "    while nums1 and nums2:\n",
    "        if nums1[0]<nums2[0]:\n",
    "            aaa.append(nums1.pop(0))\n",
    "        else:\n",
    "            aaa.append(nums2.pop(0))\n",
    "    if nums1:\n",
    "        aaa.extend(nums1)\n",
    "    if nums2:\n",
    "        aaa.extend(nums2)\n",
    "    return (aaa[math.floor((len(aaa)-1)/2)] + aaa[math.ceil((len(aaa)-1)/2)])/2"
   ]
  },
  {
   "cell_type": "code",
   "execution_count": 10,
   "metadata": {
    "collapsed": true
   },
   "outputs": [],
   "source": [
    "def findMedianSortedArrays_3(nums1, nums2):\n",
    "    \"\"\"\n",
    "    :type nums1: List[int]\n",
    "    :type nums2: List[int]\n",
    "    :rtype: float\n",
    "    \"\"\"\n",
    "    # 方案三  未成功\n",
    "    n = len(nums1)\n",
    "    m = len(nums2)\n",
    "    L1,L2,R1,R2,c1,c2,lo = 0,0,0,0,0,0,0\n",
    "    hi = 2*n\n",
    "    while lo <= hi:\n",
    "        c1 = (lo+hi)//2\n",
    "        c2 = m+n- c1\n",
    "        print('c1,c2:',c1,c2)\n",
    "        L1 = float('-inf') if c1 == 0 else nums1[(c1-1)//2]\n",
    "        R1 = float('inf') if c1 == 2*n else nums1[c1//2]\n",
    "        L2 = float('-inf') if c2 == 0 else nums2[(c2-1)//2]\n",
    "        R2 =float('inf') if c2 == 2*m else nums2[c2//2]\n",
    "        print('L1,R1,L2,R2:',L1,R1,L2,R2)\n",
    "        if L1 > R2:\n",
    "            hi = c1 -1\n",
    "        elif L2 > R1:\n",
    "            lo = c1 + 1\n",
    "        else:\n",
    "            break\n",
    "\n",
    "    return (max(L1,L2)+ min(R1,R2))/2.0"
   ]
  },
  {
   "cell_type": "code",
   "execution_count": 21,
   "metadata": {
    "collapsed": false
   },
   "outputs": [],
   "source": [
    "def findMedianSortedArrays_4(nums1, nums2):\n",
    "    \"\"\"\n",
    "    :type nums1: List[int]\n",
    "    :type nums2: List[int]\n",
    "    :rtype: float\n",
    "    \"\"\"\n",
    "    # 方案四\n",
    "    m = len(nums1)\n",
    "    n = len(nums2)\n",
    "\n",
    "    if not nums1:\n",
    "        if n%2 != 0:\n",
    "            return 1.0*nums2[n//2]\n",
    "        return (nums2[n//2]+nums2[n//2-1])/2.0\n",
    "        \n",
    "    if not nums2:\n",
    "        if m%2 != 0:\n",
    "            return 1.0*nums1[m//2]\n",
    "        return (nums1[m//2]+nums1[m//2-1])/2.0\n",
    "    \n",
    "\n",
    "    total = (m+n+1)//2;\n",
    "    total2 = (m+n+2)//2;\n",
    "\n",
    "    return (find_kth(nums1,0,nums2,0,total)+find_kth(nums1,0,nums2,0,total2))/2.0\n",
    "\n",
    "def find_kth(a, a_begin, b, b_begin, k):\n",
    "\n",
    "    if a_begin > len(a)-1:\n",
    "        return b[b_begin+k-1]\n",
    "    if b_begin > len(b)-1:\n",
    "        return a[a_begin+k-1]\n",
    "    if k == 1:\n",
    "        return min(a[a_begin],b[b_begin])\n",
    "\n",
    "    mid_a = float('inf')\n",
    "    mid_b = float('inf')\n",
    "    if a_begin+k//2-1 < len(a):\n",
    "        mid_a = a[a_begin+k//2-1]\n",
    "    if b_begin+k//2-1 < len(b):\n",
    "        mid_b = b[b_begin+k//2-1]\n",
    "\n",
    "    if mid_a < mid_b:\n",
    "        return find_kth(a,a_begin+k//2,b,b_begin,k-k//2)\n",
    "    return find_kth(a,a_begin,b,b_begin+k//2,k-k//2)"
   ]
  },
  {
   "cell_type": "code",
   "execution_count": 25,
   "metadata": {
    "collapsed": false
   },
   "outputs": [
    {
     "data": {
      "text/plain": [
       "2.5"
      ]
     },
     "execution_count": 25,
     "metadata": {},
     "output_type": "execute_result"
    }
   ],
   "source": [
    "findMedianSortedArrays_4([2,3,4],[1,2,6])"
   ]
  },
  {
   "cell_type": "markdown",
   "metadata": {},
   "source": [
    "## 15. 三数之和\n",
    "\n",
    "**方案一**\n",
    "\n",
    "夹逼方式，先排序。取第一个数锚定，左指针指向右边第一个数，右指针指向数组末尾。三个数之和大于目标值=>右指针左移；三个数之和大于目标值=>左指针右移。\n",
    "\n",
    "时间复杂度：排序=> $O(NlogN)$，夹逼：$O(N^{2})$\n",
    "\n",
    "\n",
    "**方案二**\n",
    "\n",
    "leetcode排名第一解决方案。采用hash寻址。时间复杂度$O(N^{2}/4)$"
   ]
  },
  {
   "cell_type": "code",
   "execution_count": 5,
   "metadata": {
    "collapsed": true
   },
   "outputs": [],
   "source": [
    "# 方案一\n",
    "def threeSum(nums):\n",
    "    \"\"\"\n",
    "    :type nums: List[int]\n",
    "    :rtype: List[List[int]]\n",
    "    \"\"\"\n",
    "    nums.sort()\n",
    "    ret_list = []\n",
    "    for i,ele in enumerate(nums):\n",
    "        if i==0 or ele!= nums[i-1]:\n",
    "            target = -ele\n",
    "            point_left = i+1\n",
    "            point_right = len(nums)-1\n",
    "            while point_left < point_right:\n",
    "                if nums[point_left] + nums[point_right] > target:\n",
    "                    point_right -= 1\n",
    "                elif nums[point_left] + nums[point_right] < target:\n",
    "                    point_left += 1\n",
    "                else:\n",
    "                    aaa = [ele, nums[point_left], nums[point_right]]\n",
    "                    if ret_list:\n",
    "                        if aaa != ret_list[-1]:\n",
    "                            ret_list.append(aaa)\n",
    "                    else:\n",
    "                        ret_list.append(aaa)\n",
    "                    point_left += 1\n",
    "                    point_right -= 1\n",
    "    return ret_list"
   ]
  },
  {
   "cell_type": "code",
   "execution_count": null,
   "metadata": {
    "collapsed": true
   },
   "outputs": [],
   "source": [
    "#方案二\n",
    "def threeSum( nums):\n",
    "    \"\"\"\n",
    "    :type nums: List[int]\n",
    "    :rtype: List[List[int]]\n",
    "    \"\"\"\n",
    "    diction = {}\n",
    "    for num in nums:\n",
    "        if num in diction:\n",
    "            diction[num] += 1\n",
    "        else:\n",
    "            diction[num] = 1\n",
    "\n",
    "    dictkey = diction.keys()\n",
    "    pos , neg = [], []\n",
    "    for p in dictkey:\n",
    "        if p >= 0:\n",
    "            pos.append(p)\n",
    "        else:\n",
    "            neg.append(p)\n",
    "\n",
    "    sorted(pos)\n",
    "    sorted(neg)\n",
    "\n",
    "    rsts = []\n",
    "    rst = []\n",
    "    if 0 in dictkey and diction[0] > 2:\n",
    "        rsts.append([0,0,0])\n",
    "    pos.reverse()\n",
    "    for p in pos:\n",
    "        for n in neg:\n",
    "            inverse = -(p + n)\n",
    "            if inverse in dictkey:\n",
    "                if (inverse == p or inverse == n) and diction[inverse] > 1:\n",
    "                    rst = [inverse,p,n]\n",
    "                    rsts.append(sorted(rst))\n",
    "                if inverse > p or inverse < n:\n",
    "                    rst = [inverse,p,n]\n",
    "                    rsts.append(sorted(rst))\n",
    "\n",
    "    return rsts"
   ]
  },
  {
   "cell_type": "markdown",
   "metadata": {},
   "source": [
    "## 18. 四数之和\n",
    "\n",
    "**方案一**\n",
    "\n",
    "在**15.三数之和**的基础上，固定一个指针，并调用三数之和的函数计算得到。时间复杂度为$O(N^{3})$\n",
    "<font color=\"#ff0000\"><b>这里调用三数之和函数，采用生成器的方式。较普通采用返回list遍历方式略快约5%。</b></font>\n",
    "\n",
    "\n",
    "**方案二**\n",
    "\n",
    "leetcode上排名第一的方法。采用函数迭代的方式，本质思想和方案一一样。\n",
    "\n",
    "**方案三**\n",
    "\n",
    "在方案二的启发之下，将方案一代码进行重构。这里的改进有几点：\n",
    "\n",
    "<font color=\"#ff0000\"><b>1、在每一个遍历之前，先判断数组的left指针所在数乘以n是否大于target，如果大于，放弃遍历。这是由于数组本身已经进行排序，如果最小的值乘以n都大于目标值，那么后面的数相加肯定也大于目标值，因此放弃遍历。</b></font>\n",
    "<br>\n",
    "<font color=\"#ff0000\"><b>2、和第1点类似，判断right指针所指的数乘以n是否小于target，是则放弃遍历。</b></font>\n",
    "<br>\n",
    "<h3><font color=\"#ff0000\"><b>上面两点居然将运行时间从1100ms左右降到120ms左右！</b></font></h3>\n",
    "<br>\n",
    "<b>3、跳过一些重复值。例如在遍历前确认当前锚定的值是否和上一个锚定的指相同，是则跳过；在找到target指针后，判断左右指针移位后的数是不是一样的，是则跳过。这里时间大约节省10%。</b>"
   ]
  },
  {
   "cell_type": "code",
   "execution_count": null,
   "metadata": {
    "collapsed": true
   },
   "outputs": [],
   "source": [
    "# 方案一\n",
    "def fourSum(nums, target):\n",
    "    \"\"\"\n",
    "    :type nums: List[int]\n",
    "    :type target: int\n",
    "    :rtype: List[List[int]]\n",
    "    \"\"\"\n",
    "    def threeSum(nums2,target_3_sum):\n",
    "        \"\"\"\n",
    "        :type nums2: List[int]\n",
    "        :rtype: List[List[int]]\n",
    "        \"\"\"\n",
    "        # nums2.sort()\n",
    "        ret_list = []\n",
    "        for i,ele in enumerate(nums2):\n",
    "            if nums2[i]*3 > target_3_sum:\n",
    "                continue\n",
    "            if i==0 or ele!= nums2[i-1]:\n",
    "                target = target_3_sum - ele\n",
    "                point_left = i+1\n",
    "                point_right = len(nums2)-1\n",
    "                while point_left < point_right:\n",
    "                    if nums2[point_left] + nums2[point_right] > target:\n",
    "                        point_right -= 1\n",
    "                    elif nums2[point_left] + nums2[point_right] < target:\n",
    "                        point_left += 1\n",
    "                    else:\n",
    "                        aaa = [ele, nums2[point_left], nums2[point_right]]\n",
    "                        if ret_list:\n",
    "                            if aaa != ret_list[-1]:\n",
    "                                yield aaa\n",
    "                                ret_list.append(aaa)\n",
    "                        else:\n",
    "                            yield aaa\n",
    "                            ret_list.append(aaa)\n",
    "                        point_left += 1\n",
    "                        point_right -= 1\n",
    "        return ret_list\n",
    "        #return ret_list\n",
    "\n",
    "    _4_sum_list = []\n",
    "    nums.sort()\n",
    "    for i in range(len(nums)-3):\n",
    "        if nums[i]*4 > target:\n",
    "            continue\n",
    "        if i==0 or nums[i]!= nums[i-1]:\n",
    "            ele = nums[i]\n",
    "            for aaa in threeSum(nums[i+1:],target-ele):\n",
    "                _4_sum_list.append([ele]+aaa)\n",
    "            #_3sum_list = threeSum(nums[i+1:],target-ele)\n",
    "            #for aaa in _3sum_list:\n",
    "            #    _4_sum_list.append([ele]+aaa)\n",
    "    return _4_sum_list"
   ]
  },
  {
   "cell_type": "code",
   "execution_count": null,
   "metadata": {
    "collapsed": true
   },
   "outputs": [],
   "source": [
    "# 方案二\n",
    "def fourSum(nums, target):\n",
    "    \"\"\"\n",
    "    :type nums: List[int]\n",
    "    :type target: int\n",
    "    :rtype: List[List[int]]\n",
    "    \"\"\"\n",
    "\n",
    "\n",
    "    sorted_nums = sorted(nums)\n",
    "    results = []\n",
    "    self.find_n_sum(sorted_nums, target=target, n=4, result_prefix=[], results=results)\n",
    "\n",
    "    return results\n",
    "\n",
    "\n",
    "def find_n_sum(sorted_nums, target, n, result_prefix, results):\n",
    "    nums_len = len(sorted_nums)\n",
    "    if n > nums_len:\n",
    "        return -1\n",
    "\n",
    "    ## as sorted_nums is a sorted list, we can simplify some special conditions\n",
    "    if (target < sorted_nums[0] * n) or (target > sorted_nums[-1] * n):\n",
    "        return -2\n",
    "\n",
    "    if n == 1:\n",
    "        for num in sorted_nums:\n",
    "            if num == target:\n",
    "                results.append([num])\n",
    "                return 0\n",
    "        return -2\n",
    "    elif n == 2:\n",
    "        ## find 2 elements in list whose sum is target\n",
    "        idx_l, idx_r = 0, nums_len - 1\n",
    "        while idx_l < idx_r:\n",
    "            element_sum = sorted_nums[idx_l] + sorted_nums[idx_r]\n",
    "            if element_sum < target:\n",
    "                idx_l += 1\n",
    "            elif element_sum > target:\n",
    "                idx_r -= 1\n",
    "            else:\n",
    "                ## a 2-element tuple is found\n",
    "                ## add this solution into results list\n",
    "                aux = result_prefix + [sorted_nums[idx_l], sorted_nums[idx_r]]\n",
    "                results.append(aux)\n",
    "\n",
    "                idx_l += 1\n",
    "                idx_r -= 1\n",
    "\n",
    "                ## to pass duplicate elements in list\n",
    "                while (idx_l < idx_r) & (sorted_nums[idx_l] == sorted_nums[idx_l - 1]):\n",
    "                    idx_l += 1\n",
    "                while (idx_l < idx_r) & (sorted_nums[idx_r] == sorted_nums[idx_r + 1]):\n",
    "                    idx_r -= 1\n",
    "        return 0\n",
    "    else:\n",
    "        ## Try the SMALLEST element sorted_nums[i] in the n-tuple\n",
    "        ##  and find the other (n-1)-tuple in remaining list sorted_nums[i+1:]\n",
    "        for i in range(0, len(sorted_nums) - n + 1):\n",
    "            if sorted_nums[i] * n > target:\n",
    "                break\n",
    "            elif (i > 0) & (sorted_nums[i] == sorted_nums[i-1]):\n",
    "                pass\n",
    "            else:\n",
    "                self.find_n_sum(sorted_nums[i + 1:],\n",
    "                                target - sorted_nums[i],\n",
    "                                n - 1,\n",
    "                                result_prefix+[sorted_nums[i]],\n",
    "                                results)"
   ]
  },
  {
   "cell_type": "code",
   "execution_count": null,
   "metadata": {
    "collapsed": true
   },
   "outputs": [],
   "source": [
    "# 方案三\n",
    "def fourSum(nums, target):\n",
    "    \"\"\"\n",
    "    :type nums: List[int]\n",
    "    :type target: int\n",
    "    :rtype: List[List[int]]\n",
    "    \"\"\"\n",
    "    \n",
    "    \n",
    "    if not nums:\n",
    "        return []\n",
    "\n",
    "    _4_sum_list = []\n",
    "    nums.sort()\n",
    "    if nums[-1]*4 < target:\n",
    "        return []\n",
    "    for i in range(len(nums)-3):\n",
    "        if nums[i]*4 > target:\n",
    "            break\n",
    "        if i==0 or nums[i]!= nums[i-1]:\n",
    "            ele = nums[i]\n",
    "            target_3_sum = target - ele\n",
    "            if nums[-1]*3 < target_3_sum:\n",
    "                continue\n",
    "            for j in range(i+1,len(nums)-2):\n",
    "                ele2 = nums[j]\n",
    "                if ele2*3 > target_3_sum:\n",
    "                    break\n",
    "                if j==i+1 or ele2!= nums[j-1]:\n",
    "                    target_2_sum = target_3_sum - ele2\n",
    "                    point_left = j+1\n",
    "                    point_right = len(nums)-1\n",
    "                    if nums[point_left]*2 > target_2_sum or nums[point_right]*2 < target_2_sum:\n",
    "                        continue\n",
    "                    while point_left < point_right:\n",
    "                        if nums[point_left] + nums[point_right] > target_2_sum:\n",
    "                            point_right -= 1\n",
    "                        elif nums[point_left] + nums[point_right] < target_2_sum:\n",
    "                            point_left += 1\n",
    "                        else:\n",
    "                            aaa = [ele, ele2,nums[point_left], nums[point_right]]\n",
    "                            _4_sum_list.append(aaa)\n",
    "                            point_left += 1\n",
    "                            point_right -= 1\n",
    "                            while point_left < point_right and nums[point_left] == nums[point_left-1]:\n",
    "                                point_left += 1\n",
    "                            while point_left < point_right and nums[point_right] == nums[point_right+1]:\n",
    "                                point_right -= 1\n",
    "\n",
    "\n",
    "    return _4_sum_list\n"
   ]
  },
  {
   "cell_type": "markdown",
   "metadata": {},
   "source": [
    "## 33. 搜索旋转排序数组\n",
    "\n",
    "**方案一**\n",
    "\n",
    "python内置index()方法。时间复杂度O(N)\n",
    "\n",
    "**方案二**\n",
    "\n",
    "二分法。时间复杂度O(logN)"
   ]
  },
  {
   "cell_type": "code",
   "execution_count": 20,
   "metadata": {
    "collapsed": true
   },
   "outputs": [],
   "source": [
    "def search(nums, target):\n",
    "    \"\"\"\n",
    "    :type nums: List[int]\n",
    "    :type target: int\n",
    "    :rtype: int\n",
    "    \"\"\"\n",
    "    # 方案一\n",
    "    #try:\n",
    "    #    return nums.index(target)\n",
    "    #except Exception as e:\n",
    "    #    return -1\n",
    "\n",
    "    # 方案二\n",
    "    list_len = len(nums)\n",
    "    def is_target(list_to_detect,tar):\n",
    "        print(list_to_detect)\n",
    "        n = len(list_to_detect)\n",
    "        if not n:\n",
    "            return list_len\n",
    "        if n<=3:\n",
    "            try:\n",
    "                return list_to_detect.index(tar)\n",
    "            except Exception as e:\n",
    "                return list_len\n",
    "        mid = (n-1)//2\n",
    "        if (list_to_detect[0] <= tar <= list_to_detect[mid]) or (list_to_detect[0] > list_to_detect[mid] and(tar >= list_to_detect[0] or tar <=list_to_detect[mid])):\n",
    "            return is_target(list_to_detect[:mid+1],tar)\n",
    "        if (list_to_detect[mid+1] <= tar <= list_to_detect[-1]) or (list_to_detect[mid+1] > list_to_detect[-1] and(tar >= list_to_detect[mid+1] or tar <=list_to_detect[-1])):\n",
    "            return mid + 1 + is_target(list_to_detect[mid+1:],tar)\n",
    "        return list_len\n",
    "\n",
    "    aaa = is_target(nums,target)\n",
    "    return aaa if aaa<list_len else -1"
   ]
  },
  {
   "cell_type": "code",
   "execution_count": 21,
   "metadata": {
    "collapsed": false,
    "scrolled": false
   },
   "outputs": [
    {
     "name": "stdout",
     "output_type": "stream",
     "text": [
      "[4, 5, 6, 7, 0, 1, 2]\n"
     ]
    },
    {
     "data": {
      "text/plain": [
       "-1"
      ]
     },
     "execution_count": 21,
     "metadata": {},
     "output_type": "execute_result"
    }
   ],
   "source": [
    "search([4,5,6,7,0,1,2],3)"
   ]
  },
  {
   "cell_type": "markdown",
   "metadata": {
    "collapsed": true
   },
   "source": [
    "## 39. 组合总数 \n",
    "\n",
    "采用背包算法"
   ]
  },
  {
   "cell_type": "code",
   "execution_count": 3,
   "metadata": {
    "collapsed": false
   },
   "outputs": [
    {
     "name": "stdout",
     "output_type": "stream",
     "text": [
      "[[[]], [], [[2]], [], [[2, 2]], [], [[2, 2, 2]], []]\n",
      "[[[]], [], [[2]], [[3]], [[2, 2]], [[2, 3]], [[2, 2, 2], [3, 3]], [[2, 2, 3]]]\n",
      "[[[]], [], [[2]], [[3]], [[2, 2]], [[2, 3]], [[2, 2, 2], [3, 3], [6]], [[2, 2, 3]]]\n",
      "[[[]], [], [[2]], [[3]], [[2, 2]], [[2, 3]], [[2, 2, 2], [3, 3], [6]], [[2, 2, 3], [7]]]\n"
     ]
    },
    {
     "data": {
      "text/plain": [
       "[[2, 2, 3], [7]]"
      ]
     },
     "execution_count": 3,
     "metadata": {},
     "output_type": "execute_result"
    }
   ],
   "source": [
    "def combinationSum(candidates, target):\n",
    "        \"\"\"\n",
    "        :type candidates: List[int]\n",
    "        :type target: int\n",
    "        :rtype: List[List[int]]\n",
    "        \"\"\"\n",
    "        \n",
    "        candidates = list(set(candidates))\n",
    "        list_ret = [[] for i in range(0,target+1)]\n",
    "        list_ret[0] = [[]]\n",
    "        for ele in candidates:\n",
    "            for i in range(1,target+1):\n",
    "                if ele <= i:\n",
    "                    if list_ret[i-ele]:\n",
    "                        for li in list_ret[i-ele]:\n",
    "                            new_li = li + [ele]\n",
    "                            list_ret[i].append(new_li)\n",
    "            print(list_ret)\n",
    "        return list_ret[target]\n",
    "combinationSum([2,3,6,7], 7)"
   ]
  },
  {
   "cell_type": "markdown",
   "metadata": {},
   "source": [
    "## 40. 组合总数II\n",
    "做法与“39. 组合总数”题类似。不同的地方在于这里不考虑元素重复使用，所以每一个元素的遍历调整为从目标数高到低。\n",
    "上述做法避免了元素自身重复使用的问题，但是没有避免元素和之前的元素重复的问题。因此，在每一步将目标序列纳入之前，还需要判断序列是不是已经在备选的集合里了。"
   ]
  },
  {
   "cell_type": "code",
   "execution_count": 38,
   "metadata": {
    "collapsed": false
   },
   "outputs": [
    {
     "name": "stdout",
     "output_type": "stream",
     "text": [
      "2\n",
      "[[[]], [], [[2]], [], [], []]\n",
      "5\n",
      "[[[]], [], [[2]], [], [], [[5]]]\n",
      "1\n",
      "[[[]], [[1]], [[2]], [[2, 1]], [], [[5]]]\n",
      "1\n",
      "[[[]], [[1]], [[2], [1, 1]], [[2, 1]], [[2, 1, 1]], [[5]]]\n",
      "2\n",
      "[[[]], [[1]], [[2], [1, 1]], [[2, 1]], [[2, 1, 1], [2, 2]], [[5], [2, 1, 2]]]\n",
      "3\n",
      "[[[]], [[1]], [[2], [1, 1]], [[2, 1], [3]], [[2, 1, 1], [2, 2], [1, 3]], [[5], [2, 1, 2], [2, 3], [1, 1, 3]]]\n",
      "3\n",
      "[[[]], [[1]], [[2], [1, 1]], [[2, 1], [3]], [[2, 1, 1], [2, 2], [1, 3]], [[5], [2, 1, 2], [2, 3], [1, 1, 3]]]\n",
      "3\n",
      "[[[]], [[1]], [[2], [1, 1]], [[2, 1], [3]], [[2, 1, 1], [2, 2], [1, 3]], [[5], [2, 1, 2], [2, 3], [1, 1, 3]]]\n",
      "1\n",
      "[[[]], [[1]], [[2], [1, 1]], [[2, 1], [3], [1, 1, 1]], [[2, 1, 1], [2, 2], [1, 3]], [[5], [2, 1, 2], [2, 3], [1, 1, 3], [2, 1, 1, 1]]]\n",
      "2\n",
      "[[[]], [[1]], [[2], [1, 1]], [[2, 1], [3], [1, 1, 1]], [[2, 1, 1], [2, 2], [1, 3]], [[5], [2, 1, 2], [2, 3], [1, 1, 3], [2, 1, 1, 1]]]\n",
      "2\n",
      "[[[]], [[1]], [[2], [1, 1]], [[2, 1], [3], [1, 1, 1]], [[2, 1, 1], [2, 2], [1, 3]], [[5], [2, 1, 2], [2, 3], [1, 1, 3], [2, 1, 1, 1]]]\n"
     ]
    },
    {
     "data": {
      "text/plain": [
       "[[5], [2, 1, 2], [2, 3], [1, 1, 3], [2, 1, 1, 1]]"
      ]
     },
     "execution_count": 38,
     "metadata": {},
     "output_type": "execute_result"
    }
   ],
   "source": [
    "def combinationSum(candidates, target):\n",
    "        \"\"\"\n",
    "        :type candidates: List[int]\n",
    "        :type target: int\n",
    "        :rtype: List[List[int]]\n",
    "        \"\"\"\n",
    "        \n",
    "        #这里没有针对candidates做去重处理\n",
    "        list_ret = [[] for i in range(0,target+1)]\n",
    "        list_ret[0] = [[]]\n",
    "        for ele in candidates:\n",
    "            # 修改为从高到低遍历\n",
    "            for i in range(target,0,-1):\n",
    "                if ele <= i:\n",
    "                    if list_ret[i-ele]:\n",
    "                        for li in list_ret[i-ele]:\n",
    "                            new_li = li + [ele]\n",
    "                            # 添加判断元素重复的语句\n",
    "                            j = False\n",
    "                            for old_list in list_ret[i]:\n",
    "                                if sorted(old_list) == sorted(new_li):\n",
    "                                    j = True\n",
    "                                    break\n",
    "                            if not j:\n",
    "                                list_ret[i].append(new_li)\n",
    "            print(list_ret)\n",
    "        return list_ret[target]\n",
    "combinationSum([2,5,1,1,2,3,3,3,1,2,2], 5)"
   ]
  },
  {
   "cell_type": "markdown",
   "metadata": {},
   "source": [
    "## 48. 旋转图像\n",
    "一个简单的数组遍历方法，只要拿着举例看下数据的翻转方式，对着构造遍历顺序就可以了。\n",
    "一开始的做法是\n",
    "\n",
    "    matrix = [[matrix[i][j]  for i in range(len(matrix)-1,-1,-1)] for j in range(0,len(matrix[0])) ]\n",
    "\n",
    "发现结果matrix没变化。这是python的浅拷贝和深拷贝的问题。具体这里讲解的很清楚。 ==>[戳这里](https://www.cnblogs.com/wilber2013/p/4645353.html)\n",
    "显然，换成下面这种方式就行。\n",
    "    \n",
    "    matrix[:] = [[matrix[i][j]  for i in range(len(matrix)-1,-1,-1)] for j in range(0,len(matrix[0])) ]"
   ]
  },
  {
   "cell_type": "code",
   "execution_count": 1,
   "metadata": {
    "collapsed": false
   },
   "outputs": [
    {
     "name": "stdout",
     "output_type": "stream",
     "text": [
      "1 81660616\n",
      "2 81660616\n",
      "3 81660488\n",
      "4 81660616\n"
     ]
    }
   ],
   "source": [
    "def rotate(matrix):\n",
    "        \"\"\"\n",
    "        :type matrix: List[List[int]]\n",
    "        :rtype: void Do not return anything, modify matrix in-place instead.\n",
    "        \"\"\"\n",
    "        matrix[:] = [[matrix[i][j]  for i in range(len(matrix)-1,-1,-1)] for j in range(0,len(matrix[0])) ]\n",
    "\n",
    "\n",
    "matrix =[ [ 5, 1, 9,11],  [ 2, 4, 8,10],  [13, 3, 6, 7],  [15,14,12,16]]\n",
    "rotate(matrix)"
   ]
  },
  {
   "cell_type": "markdown",
   "metadata": {},
   "source": [
    "## 54. 螺旋矩阵\n",
    "数组遍历。需记录几个变量：螺旋的方向、螺旋的上、下、左、右边界。剩下的事情就是取数了。"
   ]
  },
  {
   "cell_type": "code",
   "execution_count": 1,
   "metadata": {
    "collapsed": false
   },
   "outputs": [
    {
     "data": {
      "text/plain": [
       "[1, 2, 3, 6, 9, 8, 7, 4, 5]"
      ]
     },
     "execution_count": 1,
     "metadata": {},
     "output_type": "execute_result"
    }
   ],
   "source": [
    "def spiralOrder(matrix):\n",
    "    \"\"\"\n",
    "    :type matrix: List[List[int]]\n",
    "    :rtype: List[int]\n",
    "    \"\"\"\n",
    "\n",
    "    if not matrix:\n",
    "        return []\n",
    "    # 定义遍历的边界\n",
    "    left = 0\n",
    "    right = len(matrix[0]) - 1\n",
    "    top = 0\n",
    "    bottom = len(matrix) - 1\n",
    "\n",
    "    # 定义螺旋方向，0~3分别代表：右、下、左、上\n",
    "    orient = 0\n",
    "    # 定义返回的list\n",
    "    ret_list = []\n",
    "\n",
    "    while right >= left and bottom >= top:\n",
    "        # 向左遍历\n",
    "        if orient == 0:\n",
    "            list_to_append = matrix[top][left:right+1]\n",
    "            top += 1\n",
    "        if orient == 1:\n",
    "            list_to_append = [matrix[i][right] for i in range(top,bottom+1,1)]\n",
    "            right -= 1\n",
    "        if orient == 2:\n",
    "            if left == 0:\n",
    "                list_to_append = matrix[bottom][right::-1]\n",
    "            else:\n",
    "                list_to_append = matrix[bottom][right:left-1:-1]\n",
    "            bottom -= 1\n",
    "        if orient == 3:\n",
    "            list_to_append = [matrix[i][left] for i in range(bottom,top-1,-1)]\n",
    "            left += 1\n",
    "        orient = (orient + 1) % 4 #调整螺旋遍历方向\n",
    "        ret_list += list_to_append\n",
    "    return ret_list\n",
    "spiralOrder([[1,2,3],[4,5,6],[7,8,9]])"
   ]
  },
  {
   "cell_type": "code",
   "execution_count": null,
   "metadata": {
    "collapsed": true
   },
   "outputs": [],
   "source": []
  }
 ],
 "metadata": {
  "kernelspec": {
   "display_name": "Python 3",
   "language": "python",
   "name": "python3"
  },
  "language_info": {
   "codemirror_mode": {
    "name": "ipython",
    "version": 3
   },
   "file_extension": ".py",
   "mimetype": "text/x-python",
   "name": "python",
   "nbconvert_exporter": "python",
   "pygments_lexer": "ipython3",
   "version": "3.6.0"
  }
 },
 "nbformat": 4,
 "nbformat_minor": 2
}
