{
 "cells": [
  {
   "cell_type": "markdown",
   "metadata": {},
   "source": [
    "## 769. 最多能完成排序的块\n",
    "\n",
    "最简单的理解：假如数组前n个元素的最大值等于n-1，因为数组的元素不重复，且为非负整数，因此只能包含元素0到n-1。那么可以将其切块出来排序。\n",
    "因此，只需要遍历数组，当最大值等于index-1时进行切块即可。"
   ]
  },
  {
   "cell_type": "code",
   "execution_count": 16,
   "metadata": {
    "collapsed": false
   },
   "outputs": [
    {
     "data": {
      "text/plain": [
       "5"
      ]
     },
     "execution_count": 16,
     "metadata": {},
     "output_type": "execute_result"
    }
   ],
   "source": [
    "# beat 90%\n",
    "def maxChunksToSorted(arr):\n",
    "    \"\"\"\n",
    "    :type arr: List[int]\n",
    "    :rtype: int\n",
    "    \"\"\"\n",
    "    max_num = 0\n",
    "    count = 0\n",
    "    for i in range(len(arr)):\n",
    "        max_num = max(arr[i],max_num)\n",
    "        if i == max_num:\n",
    "            count += 1\n",
    "    return count\n",
    "maxChunksToSorted([0,1,2,3,6,5,4])"
   ]
  },
  {
   "cell_type": "markdown",
   "metadata": {},
   "source": [
    "## 775. 全局倒置与局部倒置\n",
    "留意几点：\n",
    "- 局部倒置一定属于全局倒置\n",
    "- 假如存在全局倒置但非局部倒置，就需要返回False。\n",
    "- 考虑一个最简单的情况：[0,1,2]。\n",
    "    * 对于仅对调相邻元素的情况（即[1,0,2]，[0,2,1]），满足全局倒置和局部倒置数量一直，返回True。\n",
    "    * 对于对调间隔超过1的元素（即[2,1,0]），全局倒置数大于局部倒置。\n",
    "- 再次留意，传入数组A是一个0到n-1的一种排列的数组。我们知道，对于数组[0,1,2,...,n-1]如果对调间隔超过1的元素，就会出现全局倒置数大于局部倒置。所以，只要判断A中哪些元素进行了跨度超过1的对调就行。数组I=[0,1,2,...,n-1]满足条件I[i]=i，假如进行跨度超过1的对调，必然出现一种情况：abs(I[i]-i)>1,到这里我们成功找到了判断条件。"
   ]
  },
  {
   "cell_type": "code",
   "execution_count": 29,
   "metadata": {
    "collapsed": false
   },
   "outputs": [
    {
     "data": {
      "text/plain": [
       "False"
      ]
     },
     "execution_count": 29,
     "metadata": {},
     "output_type": "execute_result"
    }
   ],
   "source": [
    "# beat 67%\n",
    "def isIdealPermutation(A):\n",
    "    \"\"\"\n",
    "    :type A: List[int]\n",
    "    :rtype: bool\n",
    "    \"\"\"\n",
    "\n",
    "    for i in range(len(A)):\n",
    "        if abs(A[i] - i)>=2:\n",
    "            return False\n",
    "    return True\n",
    "isIdealPermutation([1,2,0])"
   ]
  },
  {
   "cell_type": "markdown",
   "metadata": {},
   "source": [
    "## 792. 匹配子序列的单词数"
   ]
  },
  {
   "cell_type": "code",
   "execution_count": 49,
   "metadata": {
    "collapsed": false
   },
   "outputs": [
    {
     "data": {
      "text/plain": [
       "2"
      ]
     },
     "execution_count": 49,
     "metadata": {},
     "output_type": "execute_result"
    }
   ],
   "source": [
    "# beat 37%\n",
    "def numMatchingSubseq(S, words):\n",
    "    \"\"\"\n",
    "    :type S: str\n",
    "    :type words: List[str]\n",
    "    :rtype: int\n",
    "    \"\"\"\n",
    "    dic_words = {} #记录words的字典形式，以每个word的首字母作为key值\n",
    "    \n",
    "    for word in words:\n",
    "        if word[0] in dic_words:\n",
    "            dic_words[word[0]].append(word)\n",
    "        else:\n",
    "            dic_words[word[0]] = [word]\n",
    "    count = 0\n",
    "    for ch in S:\n",
    "        if ch in dic_words:\n",
    "            for i in range(len(dic_words[ch])-1,-1,-1):\n",
    "                ch_word = dic_words[ch].pop(i)\n",
    "                if len(ch_word) == 1:\n",
    "                    count += 1\n",
    "                else:\n",
    "                    if ch_word[1] in dic_words:\n",
    "                        dic_words[ch_word[1]].append(ch_word[1:])\n",
    "                    else:\n",
    "                        dic_words[ch_word[1]] = [ch_word[1:]]\n",
    "    return count\n",
    "numMatchingSubseq(\"kjalibjklaib\",[\"a\", \"bb\", \"acd\", \"ace\"])"
   ]
  },
  {
   "cell_type": "markdown",
   "metadata": {},
   "source": [
    "## 795. 区间子数组个数\n",
    "\n",
    "因为要求子数组最大值必须处于[L,R]之间，因此，遍历数组，截取出最大值在[L,R]之间的最长子数组。截取方法其实就是拿数组中大于R的值作为隔断。\n",
    "得到最长子数组后，需要计算符合条件的子数组数量，计算方法为计算所有子数组数量，减去不符合的子数组数量。"
   ]
  },
  {
   "cell_type": "code",
   "execution_count": 5,
   "metadata": {
    "collapsed": false
   },
   "outputs": [
    {
     "data": {
      "text/plain": [
       "19"
      ]
     },
     "execution_count": 5,
     "metadata": {},
     "output_type": "execute_result"
    }
   ],
   "source": [
    "# beat 16%\n",
    "def numSubarrayBoundedMax(A, L, R):\n",
    "    \"\"\"\n",
    "    :type A: List[int]\n",
    "    :type L: int\n",
    "    :type R: int\n",
    "    :rtype: int\n",
    "    \"\"\"\n",
    "    \n",
    "    count = 0\n",
    "    continious_count = 0\n",
    "    count_2 = 0\n",
    "    continious_count_2 = 0\n",
    "    max_num = float('-inf')\n",
    "    for ele in A:\n",
    "        max_num = max(max_num,ele)\n",
    "        if ele < L:\n",
    "            continious_count += 1\n",
    "            continious_count_2 += 1\n",
    "        elif ele <= R:\n",
    "            continious_count += 1\n",
    "            count_2 -= (continious_count_2+1)*continious_count_2/2\n",
    "            continious_count_2 = 0\n",
    "        else:\n",
    "            count += (continious_count+1)*continious_count/2\n",
    "            max_num = float('-inf')\n",
    "            if continious_count > 0:\n",
    "                count_2 -= (continious_count_2+1)*continious_count_2/2\n",
    "                count += count_2\n",
    "            count_2 = 0\n",
    "            continious_count_2 = 0\n",
    "            continious_count = 0\n",
    "        \n",
    "    if continious_count > 0:\n",
    "        count += (continious_count+1)*continious_count/2\n",
    "        count_2 -= (continious_count_2+1)*continious_count_2/2\n",
    "        count += count_2\n",
    "    return int(count)\n",
    "numSubarrayBoundedMax([876,880,482,260,132,421,732,703,795,420,871,445,400,291,358,589,617,202,755,810,\\\n",
    "                       227,813,549,791,418,528,835,401,526,584,873,662,13,314,988,101,299,816,833,224,160,\\\n",
    "                       852,179,769,646,558,661,808,651,982,878,918,406,551,467,87,139,387,16,531,307,389,939,\\\n",
    "                       551,613,36,528,460,404,314,66,111,458,531,944,461,951,419,82,896,467,353,704,905,705,760,\\\n",
    "                       61,422,395,298,127,516,153,299,801,341,668,598,98,241],658,719)"
   ]
  },
  {
   "cell_type": "markdown",
   "metadata": {},
   "source": [
    "## 825. 适龄的朋友\n",
    "\n",
    "题目中，满足以下3个条件的任一个都不能发好友请求。\n",
    "\n",
    "    age[B] <= 0.5 * age[A] + 7\n",
    "    age[B] > age[A]\n",
    "    age[B] > 100 && age[A] < 100\n",
    "\n",
    "细看一下，可以发现条件2已包含了条件3。所以仅考虑条件1、2就行。再看下，发现当age[A]<=14时，条件1、2一定有一个会满足，意味着这有14岁以上的人才能发好友请求。\n",
    "\n",
    "- 方案一\n",
    "    * 采用暴力解法，遍历。提交后超时。\n",
    "- 方案二\n",
    "    * 改进点1：原来需要满足条件0.5 * age[A] + 7 < age[B] <= age[A]，将ages进行倒序排序后，只需要比较age[A]往后的元素，且判断条件简化为0.5 * age[A] + 7 < age[B]。\n",
    "    * 改进点2：我们发现，假如age[B]满足0.5 * age[A] + 7 < age[B]，那么，age[B]往前到age[A]的元素都满足，那么就可以跳出循环，减少遍历计算量。\n",
    "    * 改进点3：age[A]满足0.5 * age[A] + 7 < age[B]，那么，当age[A]变大时，age[B]只要在满足上一个age[A]的age[B]基础上往左遍历就行，无需再从ages数组的尾部开始遍历。\n",
    "- 方案三\n",
    "    * 因为影响能否发送好友请求的因素只有年龄，所以统计数组中各个年龄的人数，针对年龄进行遍历。计算量从方案二P（人数）的量级变为N（年龄）的量级，大大减少计算量。"
   ]
  },
  {
   "cell_type": "code",
   "execution_count": null,
   "metadata": {
    "collapsed": true
   },
   "outputs": [],
   "source": [
    "# can't pass\n",
    "# 方案一\n",
    "def numFriendRequests(ages):\n",
    "    \"\"\"\n",
    "    :type ages: List[int]\n",
    "    :rtype: int\n",
    "    \"\"\"\n",
    "\n",
    "    ages.sort(reverse=True)\n",
    "    ages.insert(0,-1)\n",
    "    counted = [0.5*ele+7 for ele in ages]\n",
    "    count = 0\n",
    "    repeat_nums = 0\n",
    "    for i in range(1,len(ages)):\n",
    "        ele = ages[i]\n",
    "        if ele == ages[i-1]:\n",
    "            repeat_nums += 1\n",
    "        else:\n",
    "            repeat_nums = 0\n",
    "        if ele <= 14:\n",
    "            break\n",
    "        for j in range(i+1-repeat_nums,len(ages)):\n",
    "            if counted[i] < ages[j] <= ele:\n",
    "                count += 1\n",
    "    return count"
   ]
  },
  {
   "cell_type": "code",
   "execution_count": 30,
   "metadata": {
    "collapsed": false
   },
   "outputs": [
    {
     "data": {
      "text/plain": [
       "3"
      ]
     },
     "execution_count": 30,
     "metadata": {},
     "output_type": "execute_result"
    }
   ],
   "source": [
    "# beat 29%\n",
    "# 方案二\n",
    "def numFriendRequests(ages):\n",
    "    \"\"\"\n",
    "    :type ages: List[int]\n",
    "    :rtype: int\n",
    "    \"\"\"\n",
    "\n",
    "    ages.sort(reverse=True)\n",
    "    ages.append(121)\n",
    "    counted = [0.5*ele+7 for ele in ages]\n",
    "    count = 0\n",
    "    repeat_nums = 0\n",
    "    j = len(ages)-2\n",
    "    for i in range(len(ages)-2,-1,-1):\n",
    "        ele = ages[i]\n",
    "        if ele <= 14:\n",
    "            continue\n",
    "        if ele == ages[i+1]:\n",
    "            repeat_nums += 1\n",
    "        else:\n",
    "            repeat_nums = 0\n",
    "        while j >= i+1:\n",
    "            if counted[i] < ages[j]:\n",
    "                count += j - i\n",
    "                break\n",
    "            j -= 1\n",
    "        count += repeat_nums\n",
    "    return count\n",
    "numFriendRequests([108,115,5,24,82])"
   ]
  },
  {
   "cell_type": "code",
   "execution_count": null,
   "metadata": {
    "collapsed": true
   },
   "outputs": [],
   "source": [
    "# beat 70%\n",
    "# 方案三\n",
    "def numFriendRequests(ages):\n",
    "    \"\"\"\n",
    "    :type ages: List[int]\n",
    "    :rtype: int\n",
    "    \"\"\"\n",
    "    cnt = [0] * 121\n",
    "    for age in ages:\n",
    "        cnt[age] += 1\n",
    "\n",
    "    ans = 0\n",
    "    for i in range(15, 121):\n",
    "        if cnt[i] == 0: continue\n",
    "        for j in range(math.floor(i*0.5+7)+1, i):\n",
    "            ans += cnt[i] * cnt[j]\n",
    "        ans += (cnt[i])*(cnt[i]-1)\n",
    "    return ans"
   ]
  },
  {
   "cell_type": "markdown",
   "metadata": {},
   "source": [
    "## 152. 乘积最大子序列\n",
    "\n",
    "- 方案一\n",
    "    * 暴力解法，运行时间超时\n",
    "- 方案二\n",
    "    * 输入序列元素为整数，因此，将序列以0元素进行切分。得到非零元素子序列。这些子序列的元素绝对值大于等于1。\n",
    "    * 对于每一个子序列，如果负元素数量为偶数，那么子序列所有元素相乘即为该子序列的最大子序列乘积。如负元素数量为奇数，只需要考虑去掉第一个负元素之前的序列的乘积，以及去掉最后一个负元素之后的序列的乘积，两者的最大值即为该子序列的最大乘积。\n",
    "    * 举个例子：[2,-1,3,4,2,-2,2,0,2]。0元素切分为两个子序列：[2,-1,3,4,2,-2,2],[2]。对于第一个，负数个数为2个，偶数，因此第一个子序列的最大乘积为2*(-1)*3*4*2*(-2)*2=192。第二个子序列最大乘积为2。同时考虑0元素，则该数组最大子序列乘积为max(192,2,0)=192\n",
    "    * 再举个例子：[2,-1,3,-1,4,2,-2,2,0,2]。0元素切分为两个子序列：[2,-1,3,-1,4,2,-2,2],[2]。对于第一个，负数个数为3个，奇数，因此，去掉第一个负元素-1之前的元素，子序列为[3,-1,4,2,-2,2],乘积为96；去掉最后一个负元素-2之后的元素，子序列为[2,-1,3,-1,4,2]，乘积为48，则第一个子序列的最大乘积为max(96,48)=96。第二个子序列最大乘积为2。同时考虑0元素，则该数组最大子序列乘积为max(96,2,0)=96"
   ]
  },
  {
   "cell_type": "code",
   "execution_count": 37,
   "metadata": {
    "collapsed": false,
    "scrolled": true
   },
   "outputs": [
    {
     "data": {
      "text/plain": [
       "12"
      ]
     },
     "execution_count": 37,
     "metadata": {},
     "output_type": "execute_result"
    }
   ],
   "source": [
    "# can't pass\n",
    "# 方案一\n",
    "def maxProduct(nums):\n",
    "    \"\"\"\n",
    "    :type nums: List[int]\n",
    "    :rtype: int\n",
    "    \"\"\"\n",
    "    n = len(nums)\n",
    "    product = 1\n",
    "    max_product = float('-inf')\n",
    "    for i in range(n):\n",
    "        product = nums[i]\n",
    "        max_product = max(max_product, product)\n",
    "        for j in range(i+1,len(nums)):\n",
    "            product *= nums[j]\n",
    "            max_product = max(max_product, product)\n",
    "    return max_product\n",
    "maxProduct([-4,-3,-2])"
   ]
  },
  {
   "cell_type": "code",
   "execution_count": 43,
   "metadata": {
    "collapsed": false,
    "scrolled": true
   },
   "outputs": [
    {
     "data": {
      "text/plain": [
       "0"
      ]
     },
     "execution_count": 43,
     "metadata": {},
     "output_type": "execute_result"
    }
   ],
   "source": [
    "# beat 93%\n",
    "# 方案二\n",
    "def maxProduct(nums):\n",
    "    \"\"\"\n",
    "    :type nums: List[int]\n",
    "    :rtype: int\n",
    "    \"\"\"\n",
    "    max_product = float('-inf')  #记录最大乘积\n",
    "    sub_product = 1  #记录被0元素分割后的子序列的乘积\n",
    "    first_neg = 1  #记录第一个负元素及之前的元素的乘积\n",
    "    last_neg = 1  #记录最后一个负元素及之后的元素的乘积\n",
    "    neg_count = 0 #记录子序列负数的数量\n",
    "    pos_count = 0 #记录子序列正数的数量\n",
    "    for ele in nums:\n",
    "        if ele > 0:\n",
    "            pos_count += 1\n",
    "            sub_product *= ele\n",
    "            last_neg *= ele\n",
    "        elif ele < 0:\n",
    "            neg_count += 1\n",
    "            sub_product *= ele\n",
    "            if first_neg == 1:\n",
    "                first_neg = sub_product\n",
    "            last_neg = ele\n",
    "        else:\n",
    "            if neg_count % 2 == 0:\n",
    "                if pos_count + neg_count:\n",
    "                    max_product = max(max_product,sub_product)\n",
    "                else:\n",
    "                    max_product = max(max_product,0)\n",
    "            else:\n",
    "                if pos_count+neg_count > 1:\n",
    "                    max_product = max(max_product,sub_product/first_neg, sub_product/last_neg,0)\n",
    "                else:\n",
    "                    max_product = max(max_product,sub_product,0)\n",
    "            sub_product = 1\n",
    "            first_neg = 1\n",
    "            last_neg = 1\n",
    "            neg_count = 0\n",
    "            pos_count = 0\n",
    "    if neg_count % 2 == 0:\n",
    "        if pos_count + neg_count:\n",
    "            max_product = max(max_product,sub_product)\n",
    "        else:\n",
    "            max_product = max(max_product,0)\n",
    "    else:\n",
    "        if pos_count+neg_count > 1:\n",
    "            max_product = max(max_product,sub_product/first_neg, sub_product/last_neg)\n",
    "        else:\n",
    "            max_product = max(max_product,sub_product)\n",
    "    return int(max_product)\n",
    "maxProduct([0])"
   ]
  },
  {
   "cell_type": "markdown",
   "metadata": {},
   "source": [
    "## 53. 最大子序和\n",
    "\n",
    "动态规划法解决，时间复杂度$O(N)$。\n",
    "分治方法时间复杂度$O(NlogN)$，不考虑。"
   ]
  },
  {
   "cell_type": "code",
   "execution_count": 41,
   "metadata": {
    "collapsed": false
   },
   "outputs": [
    {
     "data": {
      "text/plain": [
       "7"
      ]
     },
     "execution_count": 41,
     "metadata": {},
     "output_type": "execute_result"
    }
   ],
   "source": [
    "# beat 84%\n",
    "def maxSubArray(nums):\n",
    "    \"\"\"\n",
    "    :type nums: List[int]\n",
    "    :rtype: int\n",
    "    \"\"\"\n",
    "    sum_1 = 0\n",
    "    max_sum = float('-inf')\n",
    "    for i in range(len(nums)):\n",
    "        sum_1 += nums[i]\n",
    "        max_sum = max(max_sum, sum_1)\n",
    "        sum_1 = max(sum_1,0)\n",
    "    return max_sum\n",
    "maxSubArray([4,-3,4,-1,2,1,-5,4])"
   ]
  },
  {
   "cell_type": "markdown",
   "metadata": {},
   "source": [
    "## 153. 寻找旋转排序数组中的最小值"
   ]
  },
  {
   "cell_type": "code",
   "execution_count": 65,
   "metadata": {
    "collapsed": false
   },
   "outputs": [
    {
     "data": {
      "text/plain": [
       "0"
      ]
     },
     "execution_count": 65,
     "metadata": {},
     "output_type": "execute_result"
    }
   ],
   "source": [
    "# beat 88.8%\n",
    "def findMin(nums):\n",
    "    \"\"\"\n",
    "    :type nums: List[int]\n",
    "    :rtype: int\n",
    "    \"\"\"\n",
    "    def dfs(left,right):\n",
    "        if right - left <=1:\n",
    "            return min(nums[left],nums[right])\n",
    "        mid = (left+right)//2\n",
    "        if nums[left] > nums[mid] and nums[right] > nums[mid]:\n",
    "            return dfs(left, mid)\n",
    "        elif nums[left] < nums[mid] and nums[right] < nums[mid]:\n",
    "            return dfs(mid+1, right)\n",
    "        else:\n",
    "            return nums[left]\n",
    "    return dfs(0,len(nums)-1)\n",
    "findMin([4,5,6,7,0,1,2])"
   ]
  },
  {
   "cell_type": "markdown",
   "metadata": {},
   "source": [
    "## 162. 寻找峰值"
   ]
  },
  {
   "cell_type": "code",
   "execution_count": 73,
   "metadata": {
    "collapsed": false
   },
   "outputs": [
    {
     "data": {
      "text/plain": [
       "1"
      ]
     },
     "execution_count": 73,
     "metadata": {},
     "output_type": "execute_result"
    }
   ],
   "source": [
    "# beat 76.4%\n",
    "def findPeakElement(nums):\n",
    "    \"\"\"\n",
    "    :type nums: List[int]\n",
    "    :rtype: int\n",
    "    \"\"\"\n",
    "    if len(nums)<=2:\n",
    "        return nums.index(max(nums))\n",
    "    for i in range(1,len(nums)-1):\n",
    "        if nums[i]>nums[i-1] and nums[i]>nums[i+1]:\n",
    "            return i\n",
    "findPeakElement([1,2,1,3,5,6,4])"
   ]
  },
  {
   "cell_type": "markdown",
   "metadata": {},
   "source": [
    "## 835. 图像重叠\n",
    "\n",
    "留意该题的矩阵移动后，移出矩阵范围的元素是丢弃操作的。以下解法一为移出后不丢弃的方案（有点像给图片做symmetric的padding），解法二为移出后丢弃的方案。"
   ]
  },
  {
   "cell_type": "code",
   "execution_count": 96,
   "metadata": {
    "collapsed": false
   },
   "outputs": [
    {
     "data": {
      "text/plain": [
       "1"
      ]
     },
     "execution_count": 96,
     "metadata": {},
     "output_type": "execute_result"
    }
   ],
   "source": [
    "# can't pass\n",
    "# 解法一，移出后不丢弃\n",
    "def largestOverlap(A, B):\n",
    "    \"\"\"\n",
    "    :type A: List[List[int]]\n",
    "    :type B: List[List[int]]\n",
    "    :rtype: int\n",
    "    \"\"\"\n",
    "    max_sum = 0\n",
    "    n = len(A)\n",
    "    for i in range(n):\n",
    "        for j in range(n):\n",
    "            sum_ = 0\n",
    "            for k in range(n):\n",
    "                for l in range(n):\n",
    "                    sum_ += A[(k+i)%n][(l+j)%n] * B[k][l]\n",
    "            max_sum = max(max_sum, sum_)\n",
    "    return max_sum\n",
    "largestOverlap([[1,0],[1,0]], [[0,1],[1,0]])"
   ]
  },
  {
   "cell_type": "code",
   "execution_count": 100,
   "metadata": {
    "collapsed": false
   },
   "outputs": [
    {
     "name": "stdout",
     "output_type": "stream",
     "text": [
      "Counter({(0, 1): 2, (0, 0): 2, (1, 0): 2, (-1, 1): 1, (1, -1): 1, (1, 1): 1})\n"
     ]
    },
    {
     "data": {
      "text/plain": [
       "2"
      ]
     },
     "execution_count": 100,
     "metadata": {},
     "output_type": "execute_result"
    }
   ],
   "source": [
    "# beat 14\n",
    "# 解法二，移出后丢弃。来自leetcode官方解答\n",
    "def largestOverlap(A, B):\n",
    "    \"\"\"\n",
    "    :type A: List[List[int]]\n",
    "    :type B: List[List[int]]\n",
    "    :rtype: int\n",
    "    \"\"\"\n",
    "    import collections\n",
    "    N = len(A)\n",
    "    count = collections.Counter()\n",
    "    for i, row in enumerate(A):\n",
    "        for j, v in enumerate(row):\n",
    "            if v:\n",
    "                for i2, row2 in enumerate(B):\n",
    "                    for j2, v2 in enumerate(row2):\n",
    "                        if v2:\n",
    "                            count[i-i2, j-j2] += 1\n",
    "    print(count)\n",
    "    return max(count.values() or [0])\n",
    "largestOverlap([[0,1],[1,1]], [[1,1],[1,0]])"
   ]
  },
  {
   "cell_type": "code",
   "execution_count": null,
   "metadata": {
    "collapsed": true
   },
   "outputs": [],
   "source": [
    "aaa = '0e000000010000084001089f'\n",
    "asc = []\n",
    "for i in range(0,len(aaa),2):\n",
    "    temp = aaa[i:i+2]\n",
    "    temp2 = int(temp,16)\n",
    "    asc.append(temp2)\n",
    "print(asc)\n",
    "asc = bytearray(asc)\n",
    "crc16 = crcmod.predefined.Crc('modbus')\n",
    "crc16.update(asc)\n",
    "hex(crc16.crcValue)"
   ]
  }
 ],
 "metadata": {
  "kernelspec": {
   "display_name": "Python 3",
   "language": "python",
   "name": "python3"
  },
  "language_info": {
   "codemirror_mode": {
    "name": "ipython",
    "version": 3
   },
   "file_extension": ".py",
   "mimetype": "text/x-python",
   "name": "python",
   "nbconvert_exporter": "python",
   "pygments_lexer": "ipython3",
   "version": "3.6.6"
  }
 },
 "nbformat": 4,
 "nbformat_minor": 2
}
